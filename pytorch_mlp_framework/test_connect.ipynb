{
 "cells": [
  {
   "cell_type": "code",
   "execution_count": 15,
   "metadata": {},
   "outputs": [
    {
     "name": "stdout",
     "output_type": "stream",
     "text": [
      "MLP2022_23_CW2_Spec.pdf  install.sh\t\trun_vgg_08_default.sh\n",
      "README.md\t\t mlp\t\t\trun_vgg_38_default.sh\n",
      "VGG_08\t\t\t notebooks\t\tscripts\n",
      "VGG_38\t\t\t notes\t\t\tsetup.py\n",
      "__init__.py\t\t pytorch_mlp_framework\n",
      "data\t\t\t report\n"
     ]
    }
   ],
   "source": [
    "!ls\n",
    "!touch __init__.py"
   ]
  },
  {
   "cell_type": "code",
   "execution_count": 17,
   "metadata": {},
   "outputs": [
    {
     "name": "stderr",
     "output_type": "stream",
     "text": [
      "usage: ipykernel_launcher.py [-h] [--batch_size [BATCH_SIZE]]\n",
      "                             [--continue_from_epoch [CONTINUE_FROM_EPOCH]]\n",
      "                             [--seed [SEED]]\n",
      "                             [--image_num_channels [IMAGE_NUM_CHANNELS]]\n",
      "                             [--image_height [IMAGE_HEIGHT]]\n",
      "                             [--image_width [IMAGE_WIDTH]]\n",
      "                             [--num_stages [NUM_STAGES]]\n",
      "                             [--num_blocks_per_stage [NUM_BLOCKS_PER_STAGE]]\n",
      "                             [--num_filters [NUM_FILTERS]]\n",
      "                             [--num_epochs [NUM_EPOCHS]]\n",
      "                             [--num_classes [NUM_CLASSES]]\n",
      "                             [--experiment_name [EXPERIMENT_NAME]]\n",
      "                             [--use_gpu [USE_GPU]]\n",
      "                             [--weight_decay_coefficient [WEIGHT_DECAY_COEFFICIENT]]\n",
      "                             [--block_type BLOCK_TYPE]\n",
      "ipykernel_launcher.py: error: unrecognized arguments: -f /root/.local/share/jupyter/runtime/kernel-db45a333-5410-4ed5-9095-3cc5bc5e3ec6.json\n"
     ]
    },
    {
     "ename": "SystemExit",
     "evalue": "2",
     "output_type": "error",
     "traceback": [
      "An exception has occurred, use %tb to see the full traceback.\n",
      "\u001b[0;31mSystemExit\u001b[0m\u001b[0;31m:\u001b[0m 2\n"
     ]
    },
    {
     "name": "stderr",
     "output_type": "stream",
     "text": [
      "/usr/local/lib/python3.9/dist-packages/IPython/core/interactiveshell.py:3406: UserWarning: To exit: use 'exit', 'quit', or Ctrl-D.\n",
      "  warn(\"To exit: use 'exit', 'quit', or Ctrl-D.\", stacklevel=1)\n"
     ]
    }
   ],
   "source": [
    "import pytorch_mlp_framework\n",
    "from pytorch_mlp_framework import train_evaluate_image_classification_system"
   ]
  }
 ],
 "metadata": {
  "kernelspec": {
   "display_name": "Python 3 (ipykernel)",
   "language": "python",
   "name": "python3"
  },
  "language_info": {
   "codemirror_mode": {
    "name": "ipython",
    "version": 3
   },
   "file_extension": ".py",
   "mimetype": "text/x-python",
   "name": "python",
   "nbconvert_exporter": "python",
   "pygments_lexer": "ipython3",
   "version": "3.9.13"
  },
  "orig_nbformat": 4
 },
 "nbformat": 4,
 "nbformat_minor": 2
}
