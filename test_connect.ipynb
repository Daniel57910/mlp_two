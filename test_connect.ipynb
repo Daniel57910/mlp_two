{
 "cells": [
  {
   "cell_type": "code",
   "execution_count": 1,
   "metadata": {},
   "outputs": [],
   "source": [
    "import numpy as np\n",
    "import torch\n",
    "from torch.utils.data import DataLoader\n",
    "from torchvision import transforms\n",
    "import json\n",
    "import mlp.data_providers as data_providers\n",
    "from pytorch_mlp_framework.model_architectures import *\n",
    "from pytorch_mlp_framework.model_architectures_dm import ( ConvolutionalProcessingBlockDM, ConvolutionalReductionBlockDM )"
   ]
  },
  {
   "cell_type": "code",
   "execution_count": 2,
   "metadata": {},
   "outputs": [
    {
     "name": "stdout",
     "output_type": "stream",
     "text": [
      "MLP2022_23_CW2_Spec.pdf       mlp-cw2-template.log\n",
      "README.md\t\t      notebooks\n",
      "V88_08_experiment\t      notes\n",
      "VGG_08\t\t\t      pytest.ini\n",
      "VGG_08_experiment\t      pytorch_mlp_framework\n",
      "VGG_38\t\t\t      report\n",
      "VGG_38_experiment\t      report.zip\n",
      "VGG_38_experiment_batch_norm  requirements.txt\n",
      "__init__.py\t\t      run_vgg_08_default.sh\n",
      "data\t\t\t      run_vgg_38_default.sh\n",
      "gradP.png\t\t      scripts\n",
      "grad_flow.png\t\t      setup.py\n",
      "grad_flow_38.pdf\t      test_connect.ipynb\n",
      "install.sh\t\t      test_network\n",
      "mlp\t\t\t      vgg_38.json\n",
      "mlp-cw2-template.aux\t      vgg_38_gradients.json\n",
      "mlp-cw2-template.dvi\t      vgg_38_out.pdf\n",
      "mlp-cw2-template.fdb_latexmk  vgg_38_out.png\n",
      "mlp-cw2-template.fls\n"
     ]
    }
   ],
   "source": [
    "!ls\n",
    "!touch __init__.py\n",
    "\n"
   ]
  },
  {
   "cell_type": "code",
   "execution_count": 3,
   "metadata": {},
   "outputs": [],
   "source": [
    "class Arguments:\n",
    "    batch_size = 100\n",
    "    continue_from_epoch = -1\n",
    "    seed = 0\n",
    "    image_num_channels = 3\n",
    "    image_height = 32\n",
    "    image_width = 32\n",
    "    num_stages = 3\n",
    "    num_blocks_per_stage = 8\n",
    "    num_filters = 32\n",
    "    num_epochs = 1\n",
    "    num_classes = 100\n",
    "    experiment_name = 'VGG_08_experiment'\n",
    "    use_gpu = True\n",
    "    weight_decay_coefficient = 0\n",
    "    block_type = 'conv_block'"
   ]
  },
  {
   "cell_type": "code",
   "execution_count": null,
   "metadata": {},
   "outputs": [],
   "source": []
  },
  {
   "cell_type": "code",
   "execution_count": 45,
   "metadata": {},
   "outputs": [],
   "source": [
    "import torch\n",
    "import torch.nn as nn\n",
    "import torch.optim as optim\n",
    "import torch.nn.functional as F\n",
    "import tqdm\n",
    "import os\n",
    "import numpy as np\n",
    "import time\n",
    "from datetime import datetime\n",
    "from pytorch_mlp_framework.storage_utils import save_statistics\n",
    "from matplotlib import pyplot as plt\n",
    "import matplotlib\n",
    "matplotlib.rcParams.update({'font.size': 8})\n",
    "\n",
    "class ExperimentBuilder(nn.Module):\n",
    "    def __init__(self, network_model, experiment_name, num_epochs, train_data, val_data,\n",
    "                 test_data, weight_decay_coefficient, use_gpu, continue_from_epoch=-1):\n",
    "        \"\"\"\n",
    "        Initializes an ExperimentBuilder object. Such an object takes care of running training and evaluation of a deep net\n",
    "        on a given dataset. It also takes care of saving per epoch models and automatically inferring the best val model\n",
    "        to be used for evaluating the test set metrics.\n",
    "        :param network_model: A pytorch nn.Module which implements a network architecture.\n",
    "        :param experiment_name: The name of the experiment. This is used mainly for keeping track of the experiment and creating and directory structure that will be used to save logs, model parameters and other.\n",
    "        :param num_epochs: Total number of epochs to run the experiment\n",
    "        :param train_data: An object of the DataProvider type. Contains the training set.\n",
    "        :param val_data: An object of the DataProvider type. Contains the val set.\n",
    "        :param test_data: An object of the DataProvider type. Contains the test set.\n",
    "        :param weight_decay_coefficient: A float indicating the weight decay to use with the adam optimizer.\n",
    "        :param use_gpu: A boolean indicating whether to use a GPU or not.\n",
    "        :param continue_from_epoch: An int indicating whether we'll start from scrach (-1) or whether we'll reload a previously saved model of epoch 'continue_from_epoch' and continue training from there.\n",
    "        \"\"\"\n",
    "        super(ExperimentBuilder, self).__init__()\n",
    "\n",
    "\n",
    "        self.experiment_name = experiment_name\n",
    "        self.model = network_model\n",
    "\n",
    "        if torch.cuda.device_count() > 1 and use_gpu:\n",
    "            self.device = torch.cuda.current_device()\n",
    "            self.model.to(self.device)\n",
    "            self.model = nn.DataParallel(module=self.model)\n",
    "            print('Use Multi GPU', self.device)\n",
    "        elif torch.cuda.device_count() == 1 and use_gpu:\n",
    "            self.device =  torch.cuda.current_device()\n",
    "            self.model.to(self.device)  # sends the model from the cpu to the gpu\n",
    "            print('Use GPU', self.device)\n",
    "        else:\n",
    "            print(\"use CPU\")\n",
    "            self.device = torch.device('cpu')  # sets the device to be CPU\n",
    "            print(self.device)\n",
    "\n",
    "        print('here')\n",
    "\n",
    "        self.model.reset_parameters()  # re-initialize network parameters\n",
    "        self.train_data = train_data\n",
    "        self.val_data = val_data\n",
    "        self.test_data = test_data\n",
    "        self.all_gradients = []\n",
    "\n",
    "        print('System learnable parameters')\n",
    "        num_conv_layers = 0\n",
    "        num_linear_layers = 0\n",
    "        total_num_parameters = 0\n",
    "        for name, value in self.named_parameters():\n",
    "            print(name, value.shape)\n",
    "            if all(item in name for item in ['conv', 'weight']):\n",
    "                num_conv_layers += 1\n",
    "            if all(item in name for item in ['linear', 'weight']):\n",
    "                num_linear_layers += 1\n",
    "            total_num_parameters += np.prod(value.shape)\n",
    "\n",
    "        print('Total number of parameters', total_num_parameters)\n",
    "        print('Total number of conv layers', num_conv_layers)\n",
    "        print('Total number of linear layers', num_linear_layers)\n",
    "\n",
    "        self.optimizer = optim.Adam(self.parameters(), amsgrad=False,\n",
    "                                    weight_decay=weight_decay_coefficient)\n",
    "        self.learning_rate_scheduler = optim.lr_scheduler.CosineAnnealingLR(self.optimizer,\n",
    "                                                                            T_max=num_epochs,\n",
    "                                                                            eta_min=0.00002)\n",
    "        # Generate the directory names\n",
    "        self.experiment_folder = os.path.abspath(experiment_name)\n",
    "        self.experiment_logs = os.path.abspath(os.path.join(self.experiment_folder, \"result_outputs\"))\n",
    "        self.experiment_saved_models = os.path.abspath(os.path.join(self.experiment_folder, \"saved_models\"))\n",
    "\n",
    "        # Set best models to be at 0 since we are just starting\n",
    "        self.best_val_model_idx = 0\n",
    "        self.best_val_model_acc = 0.\n",
    "\n",
    "        if not os.path.exists(self.experiment_folder):  # If experiment directory does not exist\n",
    "            os.mkdir(self.experiment_folder)  # create the experiment directory\n",
    "            os.mkdir(self.experiment_logs)  # create the experiment log directory\n",
    "            os.mkdir(self.experiment_saved_models)  # create the experiment saved models directory\n",
    "\n",
    "        self.num_epochs = num_epochs\n",
    "        self.criterion = nn.CrossEntropyLoss().to(self.device)  # send the loss computation to the GPU\n",
    "\n",
    "        if continue_from_epoch == -2:  # if continue from epoch is -2 then continue from latest saved model\n",
    "            self.state, self.best_val_model_idx, self.best_val_model_acc = self.load_model(\n",
    "                model_save_dir=self.experiment_saved_models, model_save_name=\"train_model\",\n",
    "                model_idx='latest')  # reload existing model from epoch and return best val model index\n",
    "            # and the best val acc of that model\n",
    "            self.starting_epoch = int(self.state['model_epoch'])\n",
    "\n",
    "        elif continue_from_epoch > -1:  # if continue from epoch is greater than -1 then\n",
    "            self.state, self.best_val_model_idx, self.best_val_model_acc = self.load_model(\n",
    "                model_save_dir=self.experiment_saved_models, model_save_name=\"train_model\",\n",
    "                model_idx=continue_from_epoch)  # reload existing model from epoch and return best val model index\n",
    "            # and the best val acc of that model\n",
    "            self.starting_epoch = continue_from_epoch\n",
    "        else:\n",
    "            self.state = dict()\n",
    "            self.starting_epoch = 0\n",
    "\n",
    "    def get_num_parameters(self):\n",
    "        total_num_params = 0\n",
    "        for param in self.parameters():\n",
    "            total_num_params += np.prod(param.shape)\n",
    "\n",
    "        return total_num_params\n",
    "\n",
    "\n",
    "    def plot_func_def(self,all_grads, layers):\n",
    "        \n",
    "       \n",
    "        \"\"\"\n",
    "        Plot function definition to plot the average gradient with respect to the number of layers in the given model\n",
    "        :param all_grads: Gradients wrt weights for each layer in the model.\n",
    "        :param layers: Layer names corresponding to the model parameters\n",
    "        :return: plot for gradient flow\n",
    "        \"\"\"\n",
    "        plt.plot(all_grads, alpha=0.3, color=\"b\")\n",
    "        plt.hlines(0, 0, len(all_grads)+1, linewidth=1, color=\"k\" )\n",
    "        plt.xticks(range(0,len(all_grads), 1), layers, rotation=\"vertical\")\n",
    "        plt.xlim(xmin=0, xmax=len(all_grads))\n",
    "        plt.xlabel(\"Layers\")\n",
    "        plt.ylabel(\"Average Gradient\")\n",
    "        plt.title(\"Gradient flow\")\n",
    "        plt.grid(True)\n",
    "        plt.tight_layout()\n",
    "        \n",
    "        return plt\n",
    "        \n",
    "    \n",
    "    def plot_grad_flow(self, named_parameters):\n",
    "        \"\"\"\n",
    "        The function is being called in Line 298 of this file. \n",
    "        Receives the parameters of the model being trained. Returns plot of gradient flow for the given model parameters.\n",
    "       \n",
    "        \"\"\"\n",
    "        all_grads = []\n",
    "        layers = []\n",
    "\n",
    "        for name, p in named_parameters:\n",
    "            if (p.requires_grad) and (\"bias\" not in name):\n",
    "                name = name.replace(\"layer_dict.\", \"\")\n",
    "                name = name.replace(\".weight\", \"\")\n",
    "                layers.append(name)\n",
    "                all_grads.append(p.grad.abs().mean().cpu().numpy())\n",
    "        \"\"\"\n",
    "        Complete the code in the block below to collect absolute mean of the gradients for each layer in all_grads with the             layer names in layers.\n",
    "        \"\"\"\n",
    "        ########################################\n",
    "        \n",
    "        \n",
    "        ########################################\n",
    "            \n",
    "        \n",
    "        plt = self.plot_func_def(all_grads, layers)\n",
    "        \n",
    "        return plt, all_grads, layers\n",
    "    \n",
    "    \n",
    "    \n",
    "    \n",
    "    def run_train_iter(self, x, y):\n",
    "        \n",
    "        self.train()  # sets model to training mode (in case batch normalization or other methods have different procedures for training and evaluation)\n",
    "        x, y = x.float().to(device=self.device), y.long().to(\n",
    "            device=self.device)  # send data to device as torch tensors\n",
    "        out = self.model.forward(x)  # forward the data in the model\n",
    "\n",
    "\n",
    "        loss = F.cross_entropy(input=out, target=y)  # compute loss\n",
    "\n",
    "        self.optimizer.zero_grad()  # set all weight grads from previous training iters to 0\n",
    "        loss.backward()  # backpropagate to compute gradients for current iter loss\n",
    "        \n",
    "        self.learning_rate_scheduler.step(epoch=self.current_epoch)\n",
    "        self.optimizer.step()  # update network parameters\n",
    "        _, predicted = torch.max(out.data, 1)  # get argmax of predictions\n",
    "        accuracy = np.mean(list(predicted.eq(y.data).cpu()))  # compute accuracy\n",
    "        return loss.cpu().data.numpy(), accuracy\n",
    "\n",
    "    def run_evaluation_iter(self, x, y):\n",
    "        \"\"\"\n",
    "        Receives the inputs and targets for the model and runs an evaluation iterations. Returns loss and accuracy metrics.\n",
    "        :param x: The inputs to the model. A numpy array of shape batch_size, channels, height, width\n",
    "        :param y: The targets for the model. A numpy array of shape batch_size, num_classes\n",
    "        :return: the loss and accuracy for this batch\n",
    "        \"\"\"\n",
    "        self.eval()  # sets the system to validation mode\n",
    "        x, y = x.float().to(device=self.device), y.long().to(\n",
    "            device=self.device)  # convert data to pytorch tensors and send to the computation device\n",
    "        out = self.model.forward(x)  # forward the data in the model\n",
    "\n",
    "        loss = F.cross_entropy(input=out, target=y)  # compute loss\n",
    "\n",
    "        _, predicted = torch.max(out.data, 1)  # get argmax of predictions\n",
    "        accuracy = np.mean(list(predicted.eq(y.data).cpu()))  # compute accuracy\n",
    "        return loss.cpu().data.numpy(), accuracy\n",
    "\n",
    "    def save_model(self, model_save_dir, model_save_name, model_idx, best_validation_model_idx,\n",
    "                   best_validation_model_acc):\n",
    "        \"\"\"\n",
    "        Save the network parameter state and current best val epoch idx and best val accuracy.\n",
    "        :param model_save_name: Name to use to save model without the epoch index\n",
    "        :param model_idx: The index to save the model with.\n",
    "        :param best_validation_model_idx: The index of the best validation model to be stored for future use.\n",
    "        :param best_validation_model_acc: The best validation accuracy to be stored for use at test time.\n",
    "        :param model_save_dir: The directory to store the state at.\n",
    "        :param state: The dictionary containing the system state.\n",
    "\n",
    "        \"\"\"\n",
    "        self.state['network'] = self.state_dict()  # save network parameter and other variables.\n",
    "        self.state['best_val_model_idx'] = best_validation_model_idx  # save current best val idx\n",
    "        self.state['best_val_model_acc'] = best_validation_model_acc  # save current best val acc\n",
    "        torch.save(self.state, f=os.path.join(model_save_dir, \"{}_{}\".format(model_save_name, str(\n",
    "            model_idx))))  # save state at prespecified filepath\n",
    "\n",
    "    def load_model(self, model_save_dir, model_save_name, model_idx):\n",
    "        \"\"\"\n",
    "        Load the network parameter state and the best val model idx and best val acc to be compared with the future val accuracies, in order to choose the best val model\n",
    "        :param model_save_dir: The directory to store the state at.\n",
    "        :param model_save_name: Name to use to save model without the epoch index\n",
    "        :param model_idx: The index to save the model with.\n",
    "        :return: best val idx and best val model acc, also it loads the network state into the system state without returning it\n",
    "        \"\"\"\n",
    "        state = torch.load(f=os.path.join(model_save_dir, \"{}_{}\".format(model_save_name, str(model_idx))))\n",
    "        self.load_state_dict(state_dict=state['network'])\n",
    "        return state, state['best_val_model_idx'], state['best_val_model_acc']\n",
    "\n",
    "    def run_experiment(self):\n",
    "        \"\"\"\n",
    "        Runs experiment train and evaluation iterations, saving the model and best val model and val model accuracy after each epoch\n",
    "        :return: The summary current_epoch_losses from starting epoch to total_epochs.\n",
    "        \"\"\"\n",
    "        from datetime import datetime\n",
    "        total_losses = {\"train_acc\": [], \"train_loss\": [], \"val_acc\": [],\n",
    "                        \"val_loss\": []}  # initialize a dict to keep the per-epoch metrics\n",
    "        current_time = datetime.now().strftime(\"%Y-%m-%d_%H-%M-%S\")  # get current time\n",
    "        train_summary_file = f'{self.experiment_name}_{current_time}_train_summary.csv'  # create a filename for the train summary\n",
    "        val_summary_file = f'{self.experiment_name}_{current_time}_val_summary.csv'  # create a filename for the val summary\n",
    "        for i, epoch_idx in enumerate(range(self.starting_epoch, self.num_epochs)):\n",
    "            epoch_start_time = time.time()\n",
    "            current_epoch_losses = {\"train_acc\": [], \"train_loss\": [], \"val_acc\": [], \"val_loss\": []}\n",
    "            self.current_epoch = epoch_idx\n",
    "            with tqdm.tqdm(total=len(self.train_data)) as pbar_train:  # create a progress bar for training\n",
    "                for idx, (x, y) in enumerate(self.train_data):  # get data batches\n",
    "                    loss, accuracy = self.run_train_iter(x=x, y=y)  # take a training iter step\n",
    "                    current_epoch_losses[\"train_loss\"].append(loss)  # add current iter loss to the train loss list\n",
    "                    current_epoch_losses[\"train_acc\"].append(accuracy)  # add current iter acc to the train acc list\n",
    "                    pbar_train.update(1)\n",
    "                    pbar_train.set_description(\"loss: {:.4f}, accuracy: {:.4f}\".format(loss, accuracy))\n",
    "\n",
    "            with tqdm.tqdm(total=len(self.val_data)) as pbar_val:  # create a progress bar for validation\n",
    "                for x, y in self.val_data:  # get data batches\n",
    "                    loss, accuracy = self.run_evaluation_iter(x=x, y=y)  # run a validation iter\n",
    "                    current_epoch_losses[\"val_loss\"].append(loss)  # add current iter loss to val loss list.\n",
    "                    current_epoch_losses[\"val_acc\"].append(accuracy)  # add current iter acc to val acc lst.\n",
    "                    pbar_val.update(1)  # add 1 step to the progress bar\n",
    "                    pbar_val.set_description(\"loss: {:.4f}, accuracy: {:.4f}\".format(loss, accuracy))\n",
    "            val_mean_accuracy = np.mean(current_epoch_losses['val_acc'])\n",
    "            if val_mean_accuracy > self.best_val_model_acc:  # if current epoch's mean val acc is greater than the saved best val acc then\n",
    "                self.best_val_model_acc = val_mean_accuracy  # set the best val model acc to be current epoch's val accuracy\n",
    "                self.best_val_model_idx = epoch_idx  # set the experiment-wise best val idx to be the current epoch's idx\n",
    "\n",
    "            for key, value in current_epoch_losses.items():\n",
    "                total_losses[key].append(np.mean(\n",
    "                    value))  # get mean of all metrics of current epoch metrics dict, to get them ready for storage and output on the terminal.\n",
    "\n",
    "            save_statistics(experiment_log_dir=self.experiment_logs, filename=train_summary_file,\n",
    "                            stats_dict=total_losses, current_epoch=i,\n",
    "                            continue_from_mode=True if (self.starting_epoch != 0 or i > 0) else False)  # save statistics to stats file.\n",
    "\n",
    "            # load_statistics(experiment_log_dir=self.experiment_logs, filename='summary.csv') # How to load a csv file if you need to\n",
    "\n",
    "            out_string = \"_\".join(\n",
    "                [\"{}_{:.4f}\".format(key, np.mean(value)) for key, value in current_epoch_losses.items()])\n",
    "            # create a string to use to report our epoch metrics\n",
    "            epoch_elapsed_time = time.time() - epoch_start_time  # calculate time taken for epoch\n",
    "            epoch_elapsed_time = \"{:.4f}\".format(epoch_elapsed_time)\n",
    "            print(\"Epoch {}:\".format(epoch_idx), out_string, \"epoch time\", epoch_elapsed_time, \"seconds\")\n",
    "            self.state['model_epoch'] = epoch_idx\n",
    "            self.save_model(model_save_dir=self.experiment_saved_models,\n",
    "                            # save model and best val idx and best val acc, using the model dir, model name and model idx\n",
    "                            model_save_name=\"train_model\", model_idx=epoch_idx,\n",
    "                            best_validation_model_idx=self.best_val_model_idx,\n",
    "                            best_validation_model_acc=self.best_val_model_acc)\n",
    "            self.save_model(model_save_dir=self.experiment_saved_models,\n",
    "                            # save model and best val idx and best val acc, using the model dir, model name and model idx\n",
    "                            model_save_name=\"train_model\", model_idx='latest',\n",
    "                            best_validation_model_idx=self.best_val_model_idx,\n",
    "                            best_validation_model_acc=self.best_val_model_acc)\n",
    "            \n",
    "            ################################################################\n",
    "            ##### Plot Gradient Flow at each Epoch during Training  ######\n",
    "            print(\"Generating Gradient Flow Plot at epoch {}\".format(epoch_idx))\n",
    "            gradient_plt, gradients, layers = self.plot_grad_flow(self.model.named_parameters())\n",
    "            self.all_gradients.append(\n",
    "                {\n",
    "                    \"epoch\": epoch_idx,\n",
    "                    \"gradients\": gradients,\n",
    "                    \"layers\": layers\n",
    "                }\n",
    "            )\n",
    "            if not os.path.exists(os.path.join(self.experiment_saved_models, 'gradient_flow_plots')):\n",
    "                os.mkdir(os.path.join(self.experiment_saved_models, 'gradient_flow_plots'))\n",
    "                plt.legend(loc=\"best\")\n",
    "\n",
    "            print('Saving Gradient Flow Plot at epoch {}'.format(epoch_idx))\n",
    "            gradient_plt.savefig(\n",
    "                os.path.join(self.experiment_saved_models, 'gradient_flow_plots', \"epoch{}.png\".format(str(epoch_idx))), \n",
    "                dpi=600\n",
    "            )\n",
    "            ################################################################\n",
    "        \n",
    "        print(\"Generating test set evaluation metrics\")\n",
    "        self.load_model(model_save_dir=self.experiment_saved_models, model_idx=self.best_val_model_idx,\n",
    "                        # load best validation model\n",
    "                        model_save_name=\"train_model\")\n",
    "        current_epoch_losses = {\"test_acc\": [], \"test_loss\": []}  # initialize a statistics dict\n",
    "        with tqdm.tqdm(total=len(self.test_data)) as pbar_test:  # ini a progress bar\n",
    "            for x, y in self.test_data:  # sample batch\n",
    "                loss, accuracy = self.run_evaluation_iter(x=x,\n",
    "                                                          y=y)  # compute loss and accuracy by running an evaluation step\n",
    "                current_epoch_losses[\"test_loss\"].append(loss)  # save test loss\n",
    "                current_epoch_losses[\"test_acc\"].append(accuracy)  # save test accuracy\n",
    "                pbar_test.update(1)  # update progress bar status\n",
    "                pbar_test.set_description(\n",
    "                    \"loss: {:.4f}, accuracy: {:.4f}\".format(loss, accuracy))  # update progress bar string output\n",
    "        test_losses = {key: [np.mean(value)] for key, value in\n",
    "                       current_epoch_losses.items()}  # save test set metrics in dict format\n",
    "        save_statistics(experiment_log_dir=self.experiment_logs, filename=val_summary_file,\n",
    "                        # save test set metrics on disk in .csv format\n",
    "                        stats_dict=test_losses, current_epoch=0, continue_from_mode=False)\n",
    "\n",
    "        return total_losses, test_losses, gradient_plt, self.all_gradients\n"
   ]
  },
  {
   "cell_type": "code",
   "execution_count": 34,
   "metadata": {},
   "outputs": [],
   "source": [
    "def train_eval_classification_system(args):\n",
    "\n",
    "    # print all arguments with their values\n",
    "    rng = np.random.RandomState(seed=args.seed)  # set the seeds for the experiment\n",
    "    torch.manual_seed(seed=args.seed)  # sets pytorch's seed\n",
    "\n",
    "# # set up data augmentation transforms for training and testing\n",
    "    transform_train = transforms.Compose([\n",
    "            transforms.RandomCrop(32, padding=4),\n",
    "            transforms.RandomHorizontalFlip(),\n",
    "            transforms.ToTensor(),\n",
    "            transforms.Normalize((0.4914, 0.4822, 0.4465), (0.2023, 0.1994, 0.2010)),\n",
    "        ])\n",
    "\n",
    "    transform_test = transforms.Compose([\n",
    "        transforms.ToTensor(),\n",
    "        transforms.Normalize((0.4914, 0.4822, 0.4465), (0.2023, 0.1994, 0.2010)),\n",
    "    ])\n",
    "\n",
    "    train_data = data_providers.CIFAR100(root='data', set_name='train',\n",
    "                 transform=transform_train,\n",
    "                 download=True)  # initialize our rngs using the argument set seed\n",
    "    val_data = data_providers.CIFAR100(root='data', set_name='val',\n",
    "                 transform=transform_test,\n",
    "                 download=True)  # initialize our rngs using the argument set seed\n",
    "    test_data = data_providers.CIFAR100(root='data', set_name='test',\n",
    "                 transform=transform_test,\n",
    "                 download=True)  # initialize our rngs using the argument set seed\n",
    "\n",
    "    train_data_loader = DataLoader(train_data, batch_size=args.batch_size, shuffle=True, num_workers=4)\n",
    "    val_data_loader = DataLoader(val_data, batch_size=args.batch_size, shuffle=True, num_workers=4)\n",
    "    test_data_loader = DataLoader(test_data, batch_size=args.batch_size, shuffle=True, num_workers=4)\n",
    "\n",
    "    if args.block_type == 'conv_block':\n",
    "        processing_block_type = ConvolutionalProcessingBlock\n",
    "        dim_reduction_block_type = ConvolutionalDimensionalityReductionBlock\n",
    "    elif args.block_type == 'batchnorm_block':\n",
    "        processing_block_type = ConvolutionalProcessingBlockDM\n",
    "        dim_reduction_block_type = ConvolutionalReductionBlockDM\n",
    "    elif args.block_type == 'empty_block':\n",
    "        processing_block_type = EmptyBlock\n",
    "        dim_reduction_block_type = EmptyBlock\n",
    "    else:\n",
    "        raise ModuleNotFoundError\n",
    "\n",
    "    custom_conv_net = ConvolutionalNetwork(\n",
    "        input_shape=(\n",
    "            args.batch_size, args.image_num_channels, args.image_height, args.image_width),\n",
    "        num_output_classes=args.num_classes, num_filters=args.num_filters, use_bias=False,\n",
    "        num_blocks_per_stage=args.num_blocks_per_stage, num_stages=args.num_stages,\n",
    "        processing_block_type=processing_block_type,\n",
    "        dimensionality_reduction_block_type=dim_reduction_block_type)\n",
    "\n",
    "    print('Setup conv net')\n",
    "\n",
    "    conv_experiment = ExperimentBuilder(\n",
    "        network_model=custom_conv_net,\n",
    "        experiment_name=args.experiment_name,\n",
    "        num_epochs=args.num_epochs,\n",
    "        weight_decay_coefficient=args.weight_decay_coefficient,\n",
    "        use_gpu=args.use_gpu,\n",
    "        continue_from_epoch=args.continue_from_epoch,\n",
    "        train_data=train_data_loader, val_data=val_data_loader,\n",
    "        test_data=test_data_loader\n",
    "    )\n",
    "\n",
    "    print('Experiment setup')\n",
    "    return conv_experiment"
   ]
  },
  {
   "cell_type": "code",
   "execution_count": 50,
   "metadata": {},
   "outputs": [],
   "source": [
    "# run for vgg 38\n",
    "\n",
    "def vgg_38_args():\n",
    "    args = Arguments\n",
    "    args.num_epochs= 100\n",
    "    args.num_stages = 3\n",
    "    args.num_blocks_per_stage = 5\n",
    "    args.batch_size = 100\n",
    "    args.experiment_name = \"VGG_38_experiment\"\n",
    "    return args\n",
    "\n",
    "def vgg_08_args():\n",
    "    args = Arguments\n",
    "    args.num_epochs= 2\n",
    "    args.num_stages = 3\n",
    "    args.num_blocks_per_stage = 0\n",
    "    args.batch_size = 100\n",
    "    args.experiment_name = \"VGG_08_experiment\"\n",
    "    return args\n",
    "\n",
    "def vgg_38_batch_norm():\n",
    "    args = vgg_38_args()\n",
    "    args.experiment_name = \"VGG_38_experiment_batch_norm\"\n",
    "    args.block_type = 'batchnorm_block'\n",
    "    return args"
   ]
  },
  {
   "cell_type": "code",
   "execution_count": 52,
   "metadata": {},
   "outputs": [
    {
     "name": "stdout",
     "output_type": "stream",
     "text": [
      "Files already downloaded and verified\n",
      "train (47500, 32, 32, 3)\n",
      "train (47500,)\n",
      "Files already downloaded and verified\n",
      "val (2500, 32, 32, 3)\n",
      "val (2500,)\n",
      "Files already downloaded and verified\n",
      "test (10000, 32, 32, 3)\n",
      "test (10000,)\n",
      "Building basic block of ConvolutionalNetwork using input shape (100, 3, 32, 32)\n",
      "torch.Size([100, 32, 32, 32])\n",
      "shape before final linear layer torch.Size([100, 32, 1, 1])\n",
      "Block is built, output volume is torch.Size([100, 100])\n",
      "Setup conv net\n",
      "Use GPU 0\n",
      "here\n",
      "System learnable parameters\n",
      "model.layer_dict.input_conv.layer_dict.conv_0.weight torch.Size([32, 3, 3, 3])\n",
      "model.layer_dict.input_conv.layer_dict.bn_0.weight torch.Size([32])\n",
      "model.layer_dict.input_conv.layer_dict.bn_0.bias torch.Size([32])\n",
      "model.layer_dict.block_0_0.layer_dict.conv1.weight torch.Size([32, 32, 3, 3])\n",
      "model.layer_dict.block_0_0.layer_dict.batch_norm1.weight torch.Size([32])\n",
      "model.layer_dict.block_0_0.layer_dict.batch_norm1.bias torch.Size([32])\n",
      "model.layer_dict.block_0_0.layer_dict.conv2.weight torch.Size([32, 32, 3, 3])\n",
      "model.layer_dict.block_0_0.layer_dict.batch_norm2.weight torch.Size([32])\n",
      "model.layer_dict.block_0_0.layer_dict.batch_norm2.bias torch.Size([32])\n",
      "model.layer_dict.block_0_1.layer_dict.conv1.weight torch.Size([32, 32, 3, 3])\n",
      "model.layer_dict.block_0_1.layer_dict.batch_norm1.weight torch.Size([32])\n",
      "model.layer_dict.block_0_1.layer_dict.batch_norm1.bias torch.Size([32])\n",
      "model.layer_dict.block_0_1.layer_dict.conv2.weight torch.Size([32, 32, 3, 3])\n",
      "model.layer_dict.block_0_1.layer_dict.batch_norm2.weight torch.Size([32])\n",
      "model.layer_dict.block_0_1.layer_dict.batch_norm2.bias torch.Size([32])\n",
      "model.layer_dict.block_0_2.layer_dict.conv1.weight torch.Size([32, 32, 3, 3])\n",
      "model.layer_dict.block_0_2.layer_dict.batch_norm1.weight torch.Size([32])\n",
      "model.layer_dict.block_0_2.layer_dict.batch_norm1.bias torch.Size([32])\n",
      "model.layer_dict.block_0_2.layer_dict.conv2.weight torch.Size([32, 32, 3, 3])\n",
      "model.layer_dict.block_0_2.layer_dict.batch_norm2.weight torch.Size([32])\n",
      "model.layer_dict.block_0_2.layer_dict.batch_norm2.bias torch.Size([32])\n",
      "model.layer_dict.block_0_3.layer_dict.conv1.weight torch.Size([32, 32, 3, 3])\n",
      "model.layer_dict.block_0_3.layer_dict.batch_norm1.weight torch.Size([32])\n",
      "model.layer_dict.block_0_3.layer_dict.batch_norm1.bias torch.Size([32])\n",
      "model.layer_dict.block_0_3.layer_dict.conv2.weight torch.Size([32, 32, 3, 3])\n",
      "model.layer_dict.block_0_3.layer_dict.batch_norm2.weight torch.Size([32])\n",
      "model.layer_dict.block_0_3.layer_dict.batch_norm2.bias torch.Size([32])\n",
      "model.layer_dict.block_0_4.layer_dict.conv1.weight torch.Size([32, 32, 3, 3])\n",
      "model.layer_dict.block_0_4.layer_dict.batch_norm1.weight torch.Size([32])\n",
      "model.layer_dict.block_0_4.layer_dict.batch_norm1.bias torch.Size([32])\n",
      "model.layer_dict.block_0_4.layer_dict.conv2.weight torch.Size([32, 32, 3, 3])\n",
      "model.layer_dict.block_0_4.layer_dict.batch_norm2.weight torch.Size([32])\n",
      "model.layer_dict.block_0_4.layer_dict.batch_norm2.bias torch.Size([32])\n",
      "model.layer_dict.reduction_block_0.layer_dict.conv1.weight torch.Size([32, 32, 3, 3])\n",
      "model.layer_dict.reduction_block_0.layer_dict.conv1.bias torch.Size([32])\n",
      "model.layer_dict.reduction_block_0.layer_dict.batch_norm1.weight torch.Size([32])\n",
      "model.layer_dict.reduction_block_0.layer_dict.batch_norm1.bias torch.Size([32])\n",
      "model.layer_dict.reduction_block_0.layer_dict.conv2.weight torch.Size([32, 32, 3, 3])\n",
      "model.layer_dict.reduction_block_0.layer_dict.conv2.bias torch.Size([32])\n",
      "model.layer_dict.reduction_block_0.layer_dict.batch_norm2.weight torch.Size([32])\n",
      "model.layer_dict.reduction_block_0.layer_dict.batch_norm2.bias torch.Size([32])\n",
      "model.layer_dict.block_1_0.layer_dict.conv1.weight torch.Size([32, 32, 3, 3])\n",
      "model.layer_dict.block_1_0.layer_dict.batch_norm1.weight torch.Size([32])\n",
      "model.layer_dict.block_1_0.layer_dict.batch_norm1.bias torch.Size([32])\n",
      "model.layer_dict.block_1_0.layer_dict.conv2.weight torch.Size([32, 32, 3, 3])\n",
      "model.layer_dict.block_1_0.layer_dict.batch_norm2.weight torch.Size([32])\n",
      "model.layer_dict.block_1_0.layer_dict.batch_norm2.bias torch.Size([32])\n",
      "model.layer_dict.block_1_1.layer_dict.conv1.weight torch.Size([32, 32, 3, 3])\n",
      "model.layer_dict.block_1_1.layer_dict.batch_norm1.weight torch.Size([32])\n",
      "model.layer_dict.block_1_1.layer_dict.batch_norm1.bias torch.Size([32])\n",
      "model.layer_dict.block_1_1.layer_dict.conv2.weight torch.Size([32, 32, 3, 3])\n",
      "model.layer_dict.block_1_1.layer_dict.batch_norm2.weight torch.Size([32])\n",
      "model.layer_dict.block_1_1.layer_dict.batch_norm2.bias torch.Size([32])\n",
      "model.layer_dict.block_1_2.layer_dict.conv1.weight torch.Size([32, 32, 3, 3])\n",
      "model.layer_dict.block_1_2.layer_dict.batch_norm1.weight torch.Size([32])\n",
      "model.layer_dict.block_1_2.layer_dict.batch_norm1.bias torch.Size([32])\n",
      "model.layer_dict.block_1_2.layer_dict.conv2.weight torch.Size([32, 32, 3, 3])\n",
      "model.layer_dict.block_1_2.layer_dict.batch_norm2.weight torch.Size([32])\n",
      "model.layer_dict.block_1_2.layer_dict.batch_norm2.bias torch.Size([32])\n",
      "model.layer_dict.block_1_3.layer_dict.conv1.weight torch.Size([32, 32, 3, 3])\n",
      "model.layer_dict.block_1_3.layer_dict.batch_norm1.weight torch.Size([32])\n",
      "model.layer_dict.block_1_3.layer_dict.batch_norm1.bias torch.Size([32])\n",
      "model.layer_dict.block_1_3.layer_dict.conv2.weight torch.Size([32, 32, 3, 3])\n",
      "model.layer_dict.block_1_3.layer_dict.batch_norm2.weight torch.Size([32])\n",
      "model.layer_dict.block_1_3.layer_dict.batch_norm2.bias torch.Size([32])\n",
      "model.layer_dict.block_1_4.layer_dict.conv1.weight torch.Size([32, 32, 3, 3])\n",
      "model.layer_dict.block_1_4.layer_dict.batch_norm1.weight torch.Size([32])\n",
      "model.layer_dict.block_1_4.layer_dict.batch_norm1.bias torch.Size([32])\n",
      "model.layer_dict.block_1_4.layer_dict.conv2.weight torch.Size([32, 32, 3, 3])\n",
      "model.layer_dict.block_1_4.layer_dict.batch_norm2.weight torch.Size([32])\n",
      "model.layer_dict.block_1_4.layer_dict.batch_norm2.bias torch.Size([32])\n",
      "model.layer_dict.reduction_block_1.layer_dict.conv1.weight torch.Size([32, 32, 3, 3])\n",
      "model.layer_dict.reduction_block_1.layer_dict.conv1.bias torch.Size([32])\n",
      "model.layer_dict.reduction_block_1.layer_dict.batch_norm1.weight torch.Size([32])\n",
      "model.layer_dict.reduction_block_1.layer_dict.batch_norm1.bias torch.Size([32])\n",
      "model.layer_dict.reduction_block_1.layer_dict.conv2.weight torch.Size([32, 32, 3, 3])\n",
      "model.layer_dict.reduction_block_1.layer_dict.conv2.bias torch.Size([32])\n",
      "model.layer_dict.reduction_block_1.layer_dict.batch_norm2.weight torch.Size([32])\n",
      "model.layer_dict.reduction_block_1.layer_dict.batch_norm2.bias torch.Size([32])\n",
      "model.layer_dict.block_2_0.layer_dict.conv1.weight torch.Size([32, 32, 3, 3])\n",
      "model.layer_dict.block_2_0.layer_dict.batch_norm1.weight torch.Size([32])\n",
      "model.layer_dict.block_2_0.layer_dict.batch_norm1.bias torch.Size([32])\n",
      "model.layer_dict.block_2_0.layer_dict.conv2.weight torch.Size([32, 32, 3, 3])\n",
      "model.layer_dict.block_2_0.layer_dict.batch_norm2.weight torch.Size([32])\n",
      "model.layer_dict.block_2_0.layer_dict.batch_norm2.bias torch.Size([32])\n",
      "model.layer_dict.block_2_1.layer_dict.conv1.weight torch.Size([32, 32, 3, 3])\n",
      "model.layer_dict.block_2_1.layer_dict.batch_norm1.weight torch.Size([32])\n",
      "model.layer_dict.block_2_1.layer_dict.batch_norm1.bias torch.Size([32])\n",
      "model.layer_dict.block_2_1.layer_dict.conv2.weight torch.Size([32, 32, 3, 3])\n",
      "model.layer_dict.block_2_1.layer_dict.batch_norm2.weight torch.Size([32])\n",
      "model.layer_dict.block_2_1.layer_dict.batch_norm2.bias torch.Size([32])\n",
      "model.layer_dict.block_2_2.layer_dict.conv1.weight torch.Size([32, 32, 3, 3])\n",
      "model.layer_dict.block_2_2.layer_dict.batch_norm1.weight torch.Size([32])\n",
      "model.layer_dict.block_2_2.layer_dict.batch_norm1.bias torch.Size([32])\n",
      "model.layer_dict.block_2_2.layer_dict.conv2.weight torch.Size([32, 32, 3, 3])\n",
      "model.layer_dict.block_2_2.layer_dict.batch_norm2.weight torch.Size([32])\n",
      "model.layer_dict.block_2_2.layer_dict.batch_norm2.bias torch.Size([32])\n",
      "model.layer_dict.block_2_3.layer_dict.conv1.weight torch.Size([32, 32, 3, 3])\n",
      "model.layer_dict.block_2_3.layer_dict.batch_norm1.weight torch.Size([32])\n",
      "model.layer_dict.block_2_3.layer_dict.batch_norm1.bias torch.Size([32])\n",
      "model.layer_dict.block_2_3.layer_dict.conv2.weight torch.Size([32, 32, 3, 3])\n",
      "model.layer_dict.block_2_3.layer_dict.batch_norm2.weight torch.Size([32])\n",
      "model.layer_dict.block_2_3.layer_dict.batch_norm2.bias torch.Size([32])\n",
      "model.layer_dict.block_2_4.layer_dict.conv1.weight torch.Size([32, 32, 3, 3])\n",
      "model.layer_dict.block_2_4.layer_dict.batch_norm1.weight torch.Size([32])\n",
      "model.layer_dict.block_2_4.layer_dict.batch_norm1.bias torch.Size([32])\n",
      "model.layer_dict.block_2_4.layer_dict.conv2.weight torch.Size([32, 32, 3, 3])\n",
      "model.layer_dict.block_2_4.layer_dict.batch_norm2.weight torch.Size([32])\n",
      "model.layer_dict.block_2_4.layer_dict.batch_norm2.bias torch.Size([32])\n",
      "model.layer_dict.reduction_block_2.layer_dict.conv1.weight torch.Size([32, 32, 3, 3])\n",
      "model.layer_dict.reduction_block_2.layer_dict.conv1.bias torch.Size([32])\n",
      "model.layer_dict.reduction_block_2.layer_dict.batch_norm1.weight torch.Size([32])\n",
      "model.layer_dict.reduction_block_2.layer_dict.batch_norm1.bias torch.Size([32])\n",
      "model.layer_dict.reduction_block_2.layer_dict.conv2.weight torch.Size([32, 32, 3, 3])\n",
      "model.layer_dict.reduction_block_2.layer_dict.conv2.bias torch.Size([32])\n",
      "model.layer_dict.reduction_block_2.layer_dict.batch_norm2.weight torch.Size([32])\n",
      "model.layer_dict.reduction_block_2.layer_dict.batch_norm2.bias torch.Size([32])\n",
      "model.logit_linear_layer.weight torch.Size([100, 32])\n",
      "model.logit_linear_layer.bias torch.Size([100])\n",
      "Total number of parameters 338500\n",
      "Total number of conv layers 38\n",
      "Total number of linear layers 1\n",
      "Experiment setup\n"
     ]
    }
   ],
   "source": [
    "args = vgg_38_batch_norm()\n",
    "args.__dict__\n",
    "conv_experiment = train_eval_classification_system(args)\n"
   ]
  },
  {
   "cell_type": "code",
   "execution_count": 54,
   "metadata": {},
   "outputs": [
    {
     "name": "stderr",
     "output_type": "stream",
     "text": [
      "loss: 2.1216, accuracy: 0.4500: 100%|██████████| 475/475 [00:12<00:00, 39.14it/s]\n",
      "loss: 2.2492, accuracy: 0.4200: 100%|██████████| 25/25 [00:00<00:00, 42.43it/s]\n"
     ]
    },
    {
     "name": "stdout",
     "output_type": "stream",
     "text": [
      "Epoch 0: train_acc_0.4572_train_loss_1.9793_val_acc_0.4100_val_loss_2.2606 epoch time 12.7366 seconds\n",
      "Generating Gradient Flow Plot at epoch 0\n",
      "Saving Gradient Flow Plot at epoch 0\n"
     ]
    },
    {
     "name": "stderr",
     "output_type": "stream",
     "text": [
      "loss: 2.0505, accuracy: 0.4400: 100%|██████████| 475/475 [00:12<00:00, 38.81it/s]\n",
      "loss: 2.0218, accuracy: 0.4200: 100%|██████████| 25/25 [00:00<00:00, 40.00it/s]\n"
     ]
    },
    {
     "name": "stdout",
     "output_type": "stream",
     "text": [
      "Epoch 1: train_acc_0.4567_train_loss_1.9733_val_acc_0.3944_val_loss_2.3250 epoch time 12.8725 seconds\n",
      "Generating Gradient Flow Plot at epoch 1\n",
      "Saving Gradient Flow Plot at epoch 1\n"
     ]
    },
    {
     "name": "stderr",
     "output_type": "stream",
     "text": [
      "loss: 1.6863, accuracy: 0.5400: 100%|██████████| 475/475 [00:12<00:00, 38.53it/s]\n",
      "loss: 2.9491, accuracy: 0.2900: 100%|██████████| 25/25 [00:00<00:00, 38.74it/s]\n"
     ]
    },
    {
     "name": "stdout",
     "output_type": "stream",
     "text": [
      "Epoch 2: train_acc_0.4636_train_loss_1.9574_val_acc_0.3808_val_loss_2.4034 epoch time 12.9830 seconds\n",
      "Generating Gradient Flow Plot at epoch 2\n",
      "Saving Gradient Flow Plot at epoch 2\n"
     ]
    },
    {
     "name": "stderr",
     "output_type": "stream",
     "text": [
      "loss: 2.1184, accuracy: 0.5100: 100%|██████████| 475/475 [00:12<00:00, 38.16it/s]\n",
      "loss: 2.2553, accuracy: 0.4300: 100%|██████████| 25/25 [00:00<00:00, 41.45it/s]\n"
     ]
    },
    {
     "name": "stdout",
     "output_type": "stream",
     "text": [
      "Epoch 3: train_acc_0.4636_train_loss_1.9493_val_acc_0.4168_val_loss_2.1811 epoch time 13.0594 seconds\n",
      "Generating Gradient Flow Plot at epoch 3\n",
      "Saving Gradient Flow Plot at epoch 3\n"
     ]
    },
    {
     "name": "stderr",
     "output_type": "stream",
     "text": [
      "loss: 1.7001, accuracy: 0.4800: 100%|██████████| 475/475 [00:12<00:00, 38.95it/s]\n",
      "loss: 1.9909, accuracy: 0.5000: 100%|██████████| 25/25 [00:00<00:00, 36.98it/s]\n"
     ]
    },
    {
     "name": "stdout",
     "output_type": "stream",
     "text": [
      "Epoch 4: train_acc_0.4678_train_loss_1.9336_val_acc_0.4044_val_loss_2.2813 epoch time 12.8775 seconds\n",
      "Generating Gradient Flow Plot at epoch 4\n",
      "Saving Gradient Flow Plot at epoch 4\n"
     ]
    },
    {
     "name": "stderr",
     "output_type": "stream",
     "text": [
      "loss: 1.8677, accuracy: 0.4800: 100%|██████████| 475/475 [00:12<00:00, 39.16it/s]\n",
      "loss: 2.2107, accuracy: 0.3800: 100%|██████████| 25/25 [00:00<00:00, 42.43it/s]\n"
     ]
    },
    {
     "name": "stdout",
     "output_type": "stream",
     "text": [
      "Epoch 5: train_acc_0.4708_train_loss_1.9310_val_acc_0.4160_val_loss_2.1806 epoch time 12.7277 seconds\n",
      "Generating Gradient Flow Plot at epoch 5\n",
      "Saving Gradient Flow Plot at epoch 5\n"
     ]
    },
    {
     "name": "stderr",
     "output_type": "stream",
     "text": [
      "loss: 1.9170, accuracy: 0.4400: 100%|██████████| 475/475 [00:12<00:00, 38.83it/s]\n",
      "loss: 2.1718, accuracy: 0.4200: 100%|██████████| 25/25 [00:00<00:00, 40.43it/s]\n"
     ]
    },
    {
     "name": "stdout",
     "output_type": "stream",
     "text": [
      "Epoch 6: train_acc_0.4756_train_loss_1.9081_val_acc_0.4244_val_loss_2.2126 epoch time 12.8618 seconds\n",
      "Generating Gradient Flow Plot at epoch 6\n",
      "Saving Gradient Flow Plot at epoch 6\n"
     ]
    },
    {
     "name": "stderr",
     "output_type": "stream",
     "text": [
      "loss: 1.9419, accuracy: 0.4800: 100%|██████████| 475/475 [00:12<00:00, 39.12it/s]\n",
      "loss: 1.9289, accuracy: 0.4800: 100%|██████████| 25/25 [00:00<00:00, 41.02it/s]\n"
     ]
    },
    {
     "name": "stdout",
     "output_type": "stream",
     "text": [
      "Epoch 7: train_acc_0.4744_train_loss_1.9033_val_acc_0.4336_val_loss_2.1711 epoch time 12.7597 seconds\n",
      "Generating Gradient Flow Plot at epoch 7\n",
      "Saving Gradient Flow Plot at epoch 7\n"
     ]
    },
    {
     "name": "stderr",
     "output_type": "stream",
     "text": [
      "loss: 1.7486, accuracy: 0.5500: 100%|██████████| 475/475 [00:12<00:00, 38.60it/s]\n",
      "loss: 2.1961, accuracy: 0.4900: 100%|██████████| 25/25 [00:00<00:00, 38.89it/s]\n"
     ]
    },
    {
     "name": "stdout",
     "output_type": "stream",
     "text": [
      "Epoch 8: train_acc_0.4792_train_loss_1.8922_val_acc_0.4300_val_loss_2.1210 epoch time 12.9575 seconds\n",
      "Generating Gradient Flow Plot at epoch 8\n",
      "Saving Gradient Flow Plot at epoch 8\n"
     ]
    },
    {
     "name": "stderr",
     "output_type": "stream",
     "text": [
      "loss: 1.9135, accuracy: 0.4300: 100%|██████████| 475/475 [00:11<00:00, 39.67it/s]\n",
      "loss: 2.2360, accuracy: 0.4900: 100%|██████████| 25/25 [00:00<00:00, 41.48it/s]\n"
     ]
    },
    {
     "name": "stdout",
     "output_type": "stream",
     "text": [
      "Epoch 9: train_acc_0.4822_train_loss_1.8731_val_acc_0.4176_val_loss_2.2458 epoch time 12.7924 seconds\n",
      "Generating Gradient Flow Plot at epoch 9\n",
      "Saving Gradient Flow Plot at epoch 9\n"
     ]
    },
    {
     "name": "stderr",
     "output_type": "stream",
     "text": [
      "loss: 1.9593, accuracy: 0.4700: 100%|██████████| 475/475 [00:12<00:00, 38.89it/s]\n",
      "loss: 1.7173, accuracy: 0.5200: 100%|██████████| 25/25 [00:00<00:00, 41.32it/s]\n"
     ]
    },
    {
     "name": "stdout",
     "output_type": "stream",
     "text": [
      "Epoch 10: train_acc_0.4856_train_loss_1.8614_val_acc_0.4264_val_loss_2.1784 epoch time 12.8272 seconds\n",
      "Generating Gradient Flow Plot at epoch 10\n",
      "Saving Gradient Flow Plot at epoch 10\n"
     ]
    },
    {
     "name": "stderr",
     "output_type": "stream",
     "text": [
      "loss: 1.7093, accuracy: 0.4800: 100%|██████████| 475/475 [00:12<00:00, 38.96it/s]\n",
      "loss: 2.0981, accuracy: 0.4600: 100%|██████████| 25/25 [00:00<00:00, 41.37it/s]\n"
     ]
    },
    {
     "name": "stdout",
     "output_type": "stream",
     "text": [
      "Epoch 11: train_acc_0.4860_train_loss_1.8577_val_acc_0.4316_val_loss_2.1247 epoch time 12.8030 seconds\n",
      "Generating Gradient Flow Plot at epoch 11\n",
      "Saving Gradient Flow Plot at epoch 11\n"
     ]
    },
    {
     "name": "stderr",
     "output_type": "stream",
     "text": [
      "loss: 1.6175, accuracy: 0.5700: 100%|██████████| 475/475 [00:12<00:00, 38.27it/s]\n",
      "loss: 2.0001, accuracy: 0.4400: 100%|██████████| 25/25 [00:00<00:00, 36.98it/s]\n"
     ]
    },
    {
     "name": "stdout",
     "output_type": "stream",
     "text": [
      "Epoch 12: train_acc_0.4889_train_loss_1.8364_val_acc_0.4316_val_loss_2.1447 epoch time 13.0970 seconds\n",
      "Generating Gradient Flow Plot at epoch 12\n",
      "Saving Gradient Flow Plot at epoch 12\n"
     ]
    },
    {
     "name": "stderr",
     "output_type": "stream",
     "text": [
      "loss: 1.6747, accuracy: 0.4800: 100%|██████████| 475/475 [00:12<00:00, 39.05it/s]\n",
      "loss: 2.3562, accuracy: 0.3800: 100%|██████████| 25/25 [00:00<00:00, 39.34it/s]\n"
     ]
    },
    {
     "name": "stdout",
     "output_type": "stream",
     "text": [
      "Epoch 13: train_acc_0.4923_train_loss_1.8232_val_acc_0.4372_val_loss_2.1174 epoch time 12.8080 seconds\n",
      "Generating Gradient Flow Plot at epoch 13\n",
      "Saving Gradient Flow Plot at epoch 13\n"
     ]
    },
    {
     "name": "stderr",
     "output_type": "stream",
     "text": [
      "loss: 1.5853, accuracy: 0.5400: 100%|██████████| 475/475 [00:12<00:00, 39.11it/s]\n",
      "loss: 2.1829, accuracy: 0.4800: 100%|██████████| 25/25 [00:00<00:00, 40.66it/s]\n"
     ]
    },
    {
     "name": "stdout",
     "output_type": "stream",
     "text": [
      "Epoch 14: train_acc_0.4938_train_loss_1.8125_val_acc_0.4496_val_loss_2.1221 epoch time 12.7689 seconds\n",
      "Generating Gradient Flow Plot at epoch 14\n",
      "Saving Gradient Flow Plot at epoch 14\n"
     ]
    },
    {
     "name": "stderr",
     "output_type": "stream",
     "text": [
      "loss: 1.8584, accuracy: 0.4800: 100%|██████████| 475/475 [00:12<00:00, 38.40it/s]\n",
      "loss: 1.8667, accuracy: 0.5700: 100%|██████████| 25/25 [00:00<00:00, 39.37it/s]\n"
     ]
    },
    {
     "name": "stdout",
     "output_type": "stream",
     "text": [
      "Epoch 15: train_acc_0.4974_train_loss_1.8014_val_acc_0.4396_val_loss_2.0905 epoch time 13.2290 seconds\n",
      "Generating Gradient Flow Plot at epoch 15\n",
      "Saving Gradient Flow Plot at epoch 15\n"
     ]
    },
    {
     "name": "stderr",
     "output_type": "stream",
     "text": [
      "loss: 1.8131, accuracy: 0.5000: 100%|██████████| 475/475 [00:12<00:00, 38.83it/s]\n",
      "loss: 1.8673, accuracy: 0.5100: 100%|██████████| 25/25 [00:00<00:00, 42.28it/s]\n"
     ]
    },
    {
     "name": "stdout",
     "output_type": "stream",
     "text": [
      "Epoch 16: train_acc_0.5021_train_loss_1.7800_val_acc_0.4332_val_loss_2.1319 epoch time 12.8313 seconds\n",
      "Generating Gradient Flow Plot at epoch 16\n",
      "Saving Gradient Flow Plot at epoch 16\n"
     ]
    },
    {
     "name": "stderr",
     "output_type": "stream",
     "text": [
      "loss: 1.8068, accuracy: 0.5400: 100%|██████████| 475/475 [00:12<00:00, 38.24it/s]\n",
      "loss: 2.0291, accuracy: 0.4600: 100%|██████████| 25/25 [00:00<00:00, 38.95it/s]\n"
     ]
    },
    {
     "name": "stdout",
     "output_type": "stream",
     "text": [
      "Epoch 17: train_acc_0.5034_train_loss_1.7764_val_acc_0.4424_val_loss_2.1168 epoch time 13.0722 seconds\n",
      "Generating Gradient Flow Plot at epoch 17\n",
      "Saving Gradient Flow Plot at epoch 17\n"
     ]
    },
    {
     "name": "stderr",
     "output_type": "stream",
     "text": [
      "loss: 2.0162, accuracy: 0.4500: 100%|██████████| 475/475 [00:12<00:00, 38.68it/s]\n",
      "loss: 1.9147, accuracy: 0.4500: 100%|██████████| 25/25 [00:00<00:00, 41.19it/s]\n"
     ]
    },
    {
     "name": "stdout",
     "output_type": "stream",
     "text": [
      "Epoch 26: train_acc_0.5313_train_loss_1.6597_val_acc_0.4528_val_loss_2.0654 epoch time 12.8938 seconds\n",
      "Generating Gradient Flow Plot at epoch 26\n",
      "Saving Gradient Flow Plot at epoch 26\n"
     ]
    },
    {
     "name": "stderr",
     "output_type": "stream",
     "text": [
      "loss: 1.6963, accuracy: 0.5500: 100%|██████████| 475/475 [00:12<00:00, 39.44it/s]\n",
      "loss: 2.1898, accuracy: 0.4100: 100%|██████████| 25/25 [00:00<00:00, 41.70it/s]\n"
     ]
    },
    {
     "name": "stdout",
     "output_type": "stream",
     "text": [
      "Epoch 27: train_acc_0.5321_train_loss_1.6587_val_acc_0.4652_val_loss_2.0364 epoch time 12.6521 seconds\n",
      "Generating Gradient Flow Plot at epoch 27\n",
      "Saving Gradient Flow Plot at epoch 27\n"
     ]
    },
    {
     "name": "stderr",
     "output_type": "stream",
     "text": [
      "loss: 1.5947, accuracy: 0.4800: 100%|██████████| 475/475 [00:12<00:00, 39.22it/s]\n",
      "loss: 1.9604, accuracy: 0.4100: 100%|██████████| 25/25 [00:00<00:00, 41.87it/s]\n"
     ]
    },
    {
     "name": "stdout",
     "output_type": "stream",
     "text": [
      "Epoch 28: train_acc_0.5364_train_loss_1.6433_val_acc_0.4612_val_loss_2.0201 epoch time 12.7191 seconds\n",
      "Generating Gradient Flow Plot at epoch 28\n",
      "Saving Gradient Flow Plot at epoch 28\n"
     ]
    },
    {
     "name": "stderr",
     "output_type": "stream",
     "text": [
      "loss: 1.3950, accuracy: 0.6300: 100%|██████████| 475/475 [00:12<00:00, 39.44it/s]\n",
      "loss: 1.7668, accuracy: 0.5300: 100%|██████████| 25/25 [00:00<00:00, 39.55it/s]\n"
     ]
    },
    {
     "name": "stdout",
     "output_type": "stream",
     "text": [
      "Epoch 29: train_acc_0.5423_train_loss_1.6201_val_acc_0.4732_val_loss_1.9521 epoch time 12.6833 seconds\n",
      "Generating Gradient Flow Plot at epoch 29\n",
      "Saving Gradient Flow Plot at epoch 29\n"
     ]
    },
    {
     "name": "stderr",
     "output_type": "stream",
     "text": [
      "loss: 1.7638, accuracy: 0.5400: 100%|██████████| 475/475 [00:11<00:00, 39.59it/s]\n",
      "loss: 2.1249, accuracy: 0.4600: 100%|██████████| 25/25 [00:00<00:00, 42.20it/s]\n"
     ]
    },
    {
     "name": "stdout",
     "output_type": "stream",
     "text": [
      "Epoch 30: train_acc_0.5439_train_loss_1.6168_val_acc_0.4636_val_loss_1.9859 epoch time 12.7846 seconds\n",
      "Generating Gradient Flow Plot at epoch 30\n",
      "Saving Gradient Flow Plot at epoch 30\n"
     ]
    },
    {
     "name": "stderr",
     "output_type": "stream",
     "text": [
      "loss: 1.7762, accuracy: 0.4900:  55%|█████▌    | 263/475 [00:06<00:05, 41.40it/s]IOPub message rate exceeded.\n",
      "The Jupyter server will temporarily stop sending output\n",
      "to the client in order to avoid crashing it.\n",
      "To change this limit, set the config variable\n",
      "`--ServerApp.iopub_msg_rate_limit`.\n",
      "\n",
      "Current values:\n",
      "ServerApp.iopub_msg_rate_limit=1000.0 (msgs/sec)\n",
      "ServerApp.rate_limit_window=3.0 (secs)\n",
      "\n",
      "loss: 1.3687, accuracy: 0.6600: 100%|██████████| 475/475 [00:11<00:00, 40.08it/s]\n",
      "loss: 2.0844, accuracy: 0.4600: 100%|██████████| 25/25 [00:00<00:00, 39.75it/s]\n"
     ]
    },
    {
     "name": "stdout",
     "output_type": "stream",
     "text": [
      "Epoch 40: train_acc_0.5705_train_loss_1.5017_val_acc_0.4848_val_loss_1.9695 epoch time 12.4875 seconds\n",
      "Generating Gradient Flow Plot at epoch 40\n",
      "Saving Gradient Flow Plot at epoch 40\n"
     ]
    },
    {
     "name": "stderr",
     "output_type": "stream",
     "text": [
      "loss: 1.4546, accuracy: 0.6300: 100%|██████████| 475/475 [00:12<00:00, 38.63it/s]\n",
      "loss: 1.6200, accuracy: 0.5200: 100%|██████████| 25/25 [00:00<00:00, 38.85it/s]\n"
     ]
    },
    {
     "name": "stdout",
     "output_type": "stream",
     "text": [
      "Epoch 46: train_acc_0.5844_train_loss_1.4423_val_acc_0.4928_val_loss_1.9243 epoch time 12.9483 seconds\n",
      "Generating Gradient Flow Plot at epoch 46\n",
      "Saving Gradient Flow Plot at epoch 46\n"
     ]
    },
    {
     "name": "stderr",
     "output_type": "stream",
     "text": [
      "loss: 1.2137, accuracy: 0.6200: 100%|██████████| 475/475 [00:12<00:00, 39.18it/s]\n",
      "loss: 2.1723, accuracy: 0.4100: 100%|██████████| 25/25 [00:00<00:00, 41.10it/s]\n"
     ]
    },
    {
     "name": "stdout",
     "output_type": "stream",
     "text": [
      "Epoch 47: train_acc_0.5909_train_loss_1.4241_val_acc_0.4948_val_loss_1.9391 epoch time 12.7387 seconds\n",
      "Generating Gradient Flow Plot at epoch 47\n",
      "Saving Gradient Flow Plot at epoch 47\n"
     ]
    },
    {
     "name": "stderr",
     "output_type": "stream",
     "text": [
      "loss: 1.3319, accuracy: 0.6300: 100%|██████████| 475/475 [00:11<00:00, 39.93it/s]\n",
      "loss: 2.0149, accuracy: 0.4800: 100%|██████████| 25/25 [00:00<00:00, 39.69it/s]\n"
     ]
    },
    {
     "name": "stdout",
     "output_type": "stream",
     "text": [
      "Epoch 48: train_acc_0.5950_train_loss_1.4096_val_acc_0.4732_val_loss_2.0560 epoch time 12.5347 seconds\n",
      "Generating Gradient Flow Plot at epoch 48\n",
      "Saving Gradient Flow Plot at epoch 48\n"
     ]
    },
    {
     "name": "stderr",
     "output_type": "stream",
     "text": [
      "loss: 1.3329, accuracy: 0.6000: 100%|██████████| 475/475 [00:12<00:00, 38.08it/s]\n",
      "loss: 1.8737, accuracy: 0.5200: 100%|██████████| 25/25 [00:00<00:00, 39.48it/s]\n"
     ]
    },
    {
     "name": "stdout",
     "output_type": "stream",
     "text": [
      "Epoch 49: train_acc_0.5911_train_loss_1.4066_val_acc_0.4960_val_loss_1.9101 epoch time 13.1158 seconds\n",
      "Generating Gradient Flow Plot at epoch 49\n",
      "Saving Gradient Flow Plot at epoch 49\n"
     ]
    },
    {
     "name": "stderr",
     "output_type": "stream",
     "text": [
      "loss: 1.3267, accuracy: 0.6200: 100%|██████████| 475/475 [00:12<00:00, 38.82it/s]\n",
      "loss: 1.7723, accuracy: 0.4600: 100%|██████████| 25/25 [00:00<00:00, 40.38it/s]\n"
     ]
    },
    {
     "name": "stdout",
     "output_type": "stream",
     "text": [
      "Epoch 50: train_acc_0.5970_train_loss_1.3957_val_acc_0.4936_val_loss_1.9160 epoch time 12.8637 seconds\n",
      "Generating Gradient Flow Plot at epoch 50\n",
      "Saving Gradient Flow Plot at epoch 50\n"
     ]
    },
    {
     "name": "stderr",
     "output_type": "stream",
     "text": [
      "loss: 1.5318, accuracy: 0.5600:   3%|▎         | 13/475 [00:00<00:17, 26.89it/s]IOPub message rate exceeded.\n",
      "The Jupyter server will temporarily stop sending output\n",
      "to the client in order to avoid crashing it.\n",
      "To change this limit, set the config variable\n",
      "`--ServerApp.iopub_msg_rate_limit`.\n",
      "\n",
      "Current values:\n",
      "ServerApp.iopub_msg_rate_limit=1000.0 (msgs/sec)\n",
      "ServerApp.rate_limit_window=3.0 (secs)\n",
      "\n",
      "loss: 1.1003, accuracy: 0.6500: 100%|██████████| 475/475 [00:12<00:00, 37.77it/s]\n",
      "loss: 1.7466, accuracy: 0.5300: 100%|██████████| 25/25 [00:00<00:00, 41.19it/s]\n"
     ]
    },
    {
     "name": "stdout",
     "output_type": "stream",
     "text": [
      "Epoch 72: train_acc_0.6465_train_loss_1.2007_val_acc_0.5168_val_loss_1.8792 epoch time 13.1891 seconds\n",
      "Generating Gradient Flow Plot at epoch 72\n",
      "Saving Gradient Flow Plot at epoch 72\n"
     ]
    },
    {
     "name": "stderr",
     "output_type": "stream",
     "text": [
      "loss: 1.1311, accuracy: 0.7100: 100%|██████████| 475/475 [00:11<00:00, 39.86it/s]\n",
      "loss: 1.6857, accuracy: 0.5500: 100%|██████████| 25/25 [00:00<00:00, 41.20it/s]\n"
     ]
    },
    {
     "name": "stdout",
     "output_type": "stream",
     "text": [
      "Epoch 73: train_acc_0.6487_train_loss_1.1867_val_acc_0.5196_val_loss_1.8837 epoch time 12.5325 seconds\n",
      "Generating Gradient Flow Plot at epoch 73\n",
      "Saving Gradient Flow Plot at epoch 73\n"
     ]
    },
    {
     "name": "stderr",
     "output_type": "stream",
     "text": [
      "loss: 1.1677, accuracy: 0.7100: 100%|██████████| 475/475 [00:12<00:00, 38.78it/s]\n",
      "loss: 2.2852, accuracy: 0.4800: 100%|██████████| 25/25 [00:00<00:00, 39.39it/s]\n"
     ]
    },
    {
     "name": "stdout",
     "output_type": "stream",
     "text": [
      "Epoch 74: train_acc_0.6506_train_loss_1.1852_val_acc_0.5148_val_loss_1.8708 epoch time 12.8905 seconds\n",
      "Generating Gradient Flow Plot at epoch 74\n",
      "Saving Gradient Flow Plot at epoch 74\n"
     ]
    },
    {
     "name": "stderr",
     "output_type": "stream",
     "text": [
      "loss: 1.1205, accuracy: 0.6700: 100%|██████████| 475/475 [00:12<00:00, 36.94it/s]\n",
      "loss: 2.2906, accuracy: 0.4400: 100%|██████████| 25/25 [00:00<00:00, 40.49it/s]\n"
     ]
    },
    {
     "name": "stdout",
     "output_type": "stream",
     "text": [
      "Epoch 75: train_acc_0.6515_train_loss_1.1759_val_acc_0.5220_val_loss_1.8810 epoch time 13.6871 seconds\n",
      "Generating Gradient Flow Plot at epoch 75\n",
      "Saving Gradient Flow Plot at epoch 75\n"
     ]
    },
    {
     "name": "stderr",
     "output_type": "stream",
     "text": [
      "loss: 1.3971, accuracy: 0.5900: 100%|██████████| 475/475 [00:12<00:00, 38.74it/s]\n",
      "loss: 1.8488, accuracy: 0.5200: 100%|██████████| 25/25 [00:00<00:00, 38.06it/s]\n"
     ]
    },
    {
     "name": "stdout",
     "output_type": "stream",
     "text": [
      "Epoch 76: train_acc_0.6543_train_loss_1.1713_val_acc_0.5184_val_loss_1.8892 epoch time 12.9250 seconds\n",
      "Generating Gradient Flow Plot at epoch 76\n",
      "Saving Gradient Flow Plot at epoch 76\n"
     ]
    },
    {
     "name": "stderr",
     "output_type": "stream",
     "text": [
      "loss: 1.0195, accuracy: 0.7000:  16%|█▌        | 77/475 [00:02<00:09, 40.71it/s]IOPub message rate exceeded.\n",
      "The Jupyter server will temporarily stop sending output\n",
      "to the client in order to avoid crashing it.\n",
      "To change this limit, set the config variable\n",
      "`--ServerApp.iopub_msg_rate_limit`.\n",
      "\n",
      "Current values:\n",
      "ServerApp.iopub_msg_rate_limit=1000.0 (msgs/sec)\n",
      "ServerApp.rate_limit_window=3.0 (secs)\n",
      "\n",
      "loss: 1.0486, accuracy: 0.7100: 100%|██████████| 475/475 [00:12<00:00, 39.17it/s]\n",
      "loss: 1.6025, accuracy: 0.5700: 100%|██████████| 25/25 [00:00<00:00, 39.22it/s]\n"
     ]
    },
    {
     "name": "stdout",
     "output_type": "stream",
     "text": [
      "Epoch 96: train_acc_0.6727_train_loss_1.0994_val_acc_0.5304_val_loss_1.8792 epoch time 12.9451 seconds\n",
      "Generating Gradient Flow Plot at epoch 96\n",
      "Saving Gradient Flow Plot at epoch 96\n"
     ]
    },
    {
     "name": "stderr",
     "output_type": "stream",
     "text": [
      "loss: 1.4417, accuracy: 0.5600: 100%|██████████| 475/475 [00:12<00:00, 38.97it/s]\n",
      "loss: 2.0026, accuracy: 0.5400: 100%|██████████| 25/25 [00:00<00:00, 40.33it/s]\n"
     ]
    },
    {
     "name": "stdout",
     "output_type": "stream",
     "text": [
      "Epoch 97: train_acc_0.6709_train_loss_1.1033_val_acc_0.5256_val_loss_1.8835 epoch time 12.8173 seconds\n",
      "Generating Gradient Flow Plot at epoch 97\n",
      "Saving Gradient Flow Plot at epoch 97\n"
     ]
    },
    {
     "name": "stderr",
     "output_type": "stream",
     "text": [
      "loss: 1.1768, accuracy: 0.6600: 100%|██████████| 475/475 [00:12<00:00, 38.79it/s]\n",
      "loss: 1.7034, accuracy: 0.6000: 100%|██████████| 25/25 [00:00<00:00, 40.06it/s]\n"
     ]
    },
    {
     "name": "stdout",
     "output_type": "stream",
     "text": [
      "Epoch 98: train_acc_0.6709_train_loss_1.1029_val_acc_0.5296_val_loss_1.8824 epoch time 12.8757 seconds\n",
      "Generating Gradient Flow Plot at epoch 98\n",
      "Saving Gradient Flow Plot at epoch 98\n"
     ]
    },
    {
     "name": "stderr",
     "output_type": "stream",
     "text": [
      "loss: 1.0955, accuracy: 0.7300: 100%|██████████| 475/475 [00:12<00:00, 38.70it/s]\n",
      "loss: 1.5020, accuracy: 0.5500: 100%|██████████| 25/25 [00:00<00:00, 41.63it/s]\n"
     ]
    },
    {
     "name": "stdout",
     "output_type": "stream",
     "text": [
      "Epoch 99: train_acc_0.6709_train_loss_1.0983_val_acc_0.5264_val_loss_1.8871 epoch time 12.8821 seconds\n",
      "Generating Gradient Flow Plot at epoch 99\n",
      "Saving Gradient Flow Plot at epoch 99\n",
      "Generating test set evaluation metrics\n"
     ]
    },
    {
     "name": "stderr",
     "output_type": "stream",
     "text": [
      "loss: 1.8368, accuracy: 0.4800: 100%|██████████| 100/100 [00:01<00:00, 73.88it/s] \n"
     ]
    },
    {
     "data": {
      "image/png": "[encoded data removed]",
      "text/plain": [
       "<Figure size 432x288 with 1 Axes>"
      ]
     },
     "metadata": {
      "needs_background": "light"
     },
     "output_type": "display_data"
    }
   ],
   "source": [
    "train_loss, test_loss, gradient_plt, all_gradients = conv_experiment.run_experiment()\n"
   ]
  },
  {
   "cell_type": "code",
   "execution_count": 14,
   "metadata": {},
   "outputs": [],
   "source": [
    "all_gradients[0].keys()\n",
    "\n",
    "layers = all_gradients[0]['layers']\n",
    "\n",
    "output_dict = {}\n",
    "output_dict['layers'] = layers\n",
    "for grad in  all_gradients:\n",
    "    gradient_deserialzied = [float(grad) for grad in grad['gradients']]\n",
    "    output_dict[f'epoch_{grad[\"epoch\"]}'] = gradient_deserialzied"
   ]
  },
  {
   "cell_type": "code",
   "execution_count": 15,
   "metadata": {},
   "outputs": [],
   "source": [
    "from datetime import datetime\n",
    "current_time = datetime.now().strftime(\"%Y%m%d-%H%M%S\")\n",
    "\n",
    "with open('vgg_38_batch_norm.json', 'w') as fp:\n",
    "    json.dump(output_dict, fp)"
   ]
  }
 ],
 "metadata": {
  "kernelspec": {
   "display_name": "Python 3 (ipykernel)",
   "language": "python",
   "name": "python3"
  },
  "language_info": {
   "codemirror_mode": {
    "name": "ipython",
    "version": 3
   },
   "file_extension": ".py",
   "mimetype": "text/x-python",
   "name": "python",
   "nbconvert_exporter": "python",
   "pygments_lexer": "ipython3",
   "version": "3.9.13"
  },
  "orig_nbformat": 4,
  "vscode": {
   "interpreter": {
    "hash": "31f2aee4e71d21fbe5cf8b01ff0e069b9275f58929596ceb00d14d90e3e16cd6"
   }
  }
 },
 "nbformat": 4,
 "nbformat_minor": 2
}
