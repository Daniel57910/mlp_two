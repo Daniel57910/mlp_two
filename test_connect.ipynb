{
 "cells": [
  {
   "cell_type": "code",
   "execution_count": 28,
   "metadata": {},
   "outputs": [],
   "source": [
    "import numpy as np\n",
    "import torch\n",
    "from torch.utils.data import DataLoader\n",
    "from torchvision import transforms\n",
    "from torchsummary import summary\n",
    "import mlp.data_providers as data_providers\n",
    "from pytorch_mlp_framework.model_architectures import *"
   ]
  },
  {
   "cell_type": "code",
   "execution_count": 29,
   "metadata": {},
   "outputs": [
    {
     "name": "stdout",
     "output_type": "stream",
     "text": [
      "MLP2022_23_CW2_Spec.pdf  __init__.py  pytorch_mlp_framework\n",
      "README.md\t\t data\t      report\n",
      "V88_08_experiment\t install.sh   run_vgg_08_default.sh\n",
      "VGG_08\t\t\t mlp\t      run_vgg_38_default.sh\n",
      "VGG_08_experiment\t notebooks    scripts\n",
      "VGG_38\t\t\t notes\t      setup.py\n"
     ]
    }
   ],
   "source": [
    "!ls\n",
    "!touch __init__.py\n",
    "\n"
   ]
  },
  {
   "cell_type": "code",
   "execution_count": 30,
   "metadata": {},
   "outputs": [],
   "source": [
    "class Arguments:\n",
    "    batch_size = 100\n",
    "    continue_from_epoch = -1\n",
    "    seed = 0\n",
    "    image_num_channels = 3\n",
    "    image_height = 32\n",
    "    image_width = 32\n",
    "    num_stages = 3\n",
    "    num_blocks_per_stage = 8\n",
    "    num_filters = 32\n",
    "    num_epochs = 1\n",
    "    num_classes = 100\n",
    "    experiment_name = 'VGG_08_experiment'\n",
    "    use_gpu = True\n",
    "    weight_decay_coefficient = 0\n",
    "    block_type = 'conv_block'"
   ]
  },
  {
   "cell_type": "code",
   "execution_count": 31,
   "metadata": {},
   "outputs": [],
   "source": [
    "import torch\n",
    "import torch.nn as nn\n",
    "import torch.optim as optim\n",
    "import torch.nn.functional as F\n",
    "import tqdm\n",
    "import os\n",
    "import numpy as np\n",
    "import time\n",
    "\n",
    "from pytorch_mlp_framework.storage_utils import save_statistics\n",
    "from matplotlib import pyplot as plt\n",
    "import matplotlib\n",
    "matplotlib.rcParams.update({'font.size': 8})\n",
    "\n",
    "class ExperimentBuilder(nn.Module):\n",
    "    def __init__(self, network_model, experiment_name, num_epochs, train_data, val_data,\n",
    "                 test_data, weight_decay_coefficient, use_gpu, continue_from_epoch=-1):\n",
    "        \"\"\"\n",
    "        Initializes an ExperimentBuilder object. Such an object takes care of running training and evaluation of a deep net\n",
    "        on a given dataset. It also takes care of saving per epoch models and automatically inferring the best val model\n",
    "        to be used for evaluating the test set metrics.\n",
    "        :param network_model: A pytorch nn.Module which implements a network architecture.\n",
    "        :param experiment_name: The name of the experiment. This is used mainly for keeping track of the experiment and creating and directory structure that will be used to save logs, model parameters and other.\n",
    "        :param num_epochs: Total number of epochs to run the experiment\n",
    "        :param train_data: An object of the DataProvider type. Contains the training set.\n",
    "        :param val_data: An object of the DataProvider type. Contains the val set.\n",
    "        :param test_data: An object of the DataProvider type. Contains the test set.\n",
    "        :param weight_decay_coefficient: A float indicating the weight decay to use with the adam optimizer.\n",
    "        :param use_gpu: A boolean indicating whether to use a GPU or not.\n",
    "        :param continue_from_epoch: An int indicating whether we'll start from scrach (-1) or whether we'll reload a previously saved model of epoch 'continue_from_epoch' and continue training from there.\n",
    "        \"\"\"\n",
    "        super(ExperimentBuilder, self).__init__()\n",
    "\n",
    "\n",
    "        self.experiment_name = experiment_name\n",
    "        self.model = network_model\n",
    "\n",
    "        if torch.cuda.device_count() > 1 and use_gpu:\n",
    "            self.device = torch.cuda.current_device()\n",
    "            self.model.to(self.device)\n",
    "            self.model = nn.DataParallel(module=self.model)\n",
    "            print('Use Multi GPU', self.device)\n",
    "        elif torch.cuda.device_count() == 1 and use_gpu:\n",
    "            self.device =  torch.cuda.current_device()\n",
    "            self.model.to(self.device)  # sends the model from the cpu to the gpu\n",
    "            print('Use GPU', self.device)\n",
    "        else:\n",
    "            print(\"use CPU\")\n",
    "            self.device = torch.device('cpu')  # sets the device to be CPU\n",
    "            print(self.device)\n",
    "\n",
    "        print('here')\n",
    "\n",
    "        self.model.reset_parameters()  # re-initialize network parameters\n",
    "        self.train_data = train_data\n",
    "        self.val_data = val_data\n",
    "        self.test_data = test_data\n",
    "\n",
    "        print('System learnable parameters')\n",
    "        num_conv_layers = 0\n",
    "        num_linear_layers = 0\n",
    "        total_num_parameters = 0\n",
    "        for name, value in self.named_parameters():\n",
    "            print(name, value.shape)\n",
    "            if all(item in name for item in ['conv', 'weight']):\n",
    "                num_conv_layers += 1\n",
    "            if all(item in name for item in ['linear', 'weight']):\n",
    "                num_linear_layers += 1\n",
    "            total_num_parameters += np.prod(value.shape)\n",
    "\n",
    "        print('Total number of parameters', total_num_parameters)\n",
    "        print('Total number of conv layers', num_conv_layers)\n",
    "        print('Total number of linear layers', num_linear_layers)\n",
    "\n",
    "        self.optimizer = optim.Adam(self.parameters(), amsgrad=False,\n",
    "                                    weight_decay=weight_decay_coefficient)\n",
    "        self.learning_rate_scheduler = optim.lr_scheduler.CosineAnnealingLR(self.optimizer,\n",
    "                                                                            T_max=num_epochs,\n",
    "                                                                            eta_min=0.00002)\n",
    "        # Generate the directory names\n",
    "        self.experiment_folder = os.path.abspath(experiment_name)\n",
    "        self.experiment_logs = os.path.abspath(os.path.join(self.experiment_folder, \"result_outputs\"))\n",
    "        self.experiment_saved_models = os.path.abspath(os.path.join(self.experiment_folder, \"saved_models\"))\n",
    "\n",
    "        # Set best models to be at 0 since we are just starting\n",
    "        self.best_val_model_idx = 0\n",
    "        self.best_val_model_acc = 0.\n",
    "\n",
    "        if not os.path.exists(self.experiment_folder):  # If experiment directory does not exist\n",
    "            os.mkdir(self.experiment_folder)  # create the experiment directory\n",
    "            os.mkdir(self.experiment_logs)  # create the experiment log directory\n",
    "            os.mkdir(self.experiment_saved_models)  # create the experiment saved models directory\n",
    "\n",
    "        self.num_epochs = num_epochs\n",
    "        self.criterion = nn.CrossEntropyLoss().to(self.device)  # send the loss computation to the GPU\n",
    "\n",
    "        if continue_from_epoch == -2:  # if continue from epoch is -2 then continue from latest saved model\n",
    "            self.state, self.best_val_model_idx, self.best_val_model_acc = self.load_model(\n",
    "                model_save_dir=self.experiment_saved_models, model_save_name=\"train_model\",\n",
    "                model_idx='latest')  # reload existing model from epoch and return best val model index\n",
    "            # and the best val acc of that model\n",
    "            self.starting_epoch = int(self.state['model_epoch'])\n",
    "\n",
    "        elif continue_from_epoch > -1:  # if continue from epoch is greater than -1 then\n",
    "            self.state, self.best_val_model_idx, self.best_val_model_acc = self.load_model(\n",
    "                model_save_dir=self.experiment_saved_models, model_save_name=\"train_model\",\n",
    "                model_idx=continue_from_epoch)  # reload existing model from epoch and return best val model index\n",
    "            # and the best val acc of that model\n",
    "            self.starting_epoch = continue_from_epoch\n",
    "        else:\n",
    "            self.state = dict()\n",
    "            self.starting_epoch = 0\n",
    "\n",
    "    def get_num_parameters(self):\n",
    "        total_num_params = 0\n",
    "        for param in self.parameters():\n",
    "            total_num_params += np.prod(param.shape)\n",
    "\n",
    "        return total_num_params\n",
    "\n",
    "\n",
    "    def plot_func_def(self,all_grads, layers):\n",
    "        \n",
    "       \n",
    "        \"\"\"\n",
    "        Plot function definition to plot the average gradient with respect to the number of layers in the given model\n",
    "        :param all_grads: Gradients wrt weights for each layer in the model.\n",
    "        :param layers: Layer names corresponding to the model parameters\n",
    "        :return: plot for gradient flow\n",
    "        \"\"\"\n",
    "        plt.plot(all_grads, alpha=0.3, color=\"b\")\n",
    "        plt.hlines(0, 0, len(all_grads)+1, linewidth=1, color=\"k\" )\n",
    "        plt.xticks(range(0,len(all_grads), 1), layers, rotation=\"vertical\")\n",
    "        plt.xlim(xmin=0, xmax=len(all_grads))\n",
    "        plt.xlabel(\"Layers\")\n",
    "        plt.ylabel(\"Average Gradient\")\n",
    "        plt.title(\"Gradient flow\")\n",
    "        plt.grid(True)\n",
    "        plt.tight_layout()\n",
    "        \n",
    "        return plt\n",
    "        \n",
    "    \n",
    "    def plot_grad_flow(self, named_parameters):\n",
    "        \"\"\"\n",
    "        The function is being called in Line 298 of this file. \n",
    "        Receives the parameters of the model being trained. Returns plot of gradient flow for the given model parameters.\n",
    "       \n",
    "        \"\"\"\n",
    "        all_grads = []\n",
    "        layers = []\n",
    "        \n",
    "        \"\"\"\n",
    "        Complete the code in the block below to collect absolute mean of the gradients for each layer in all_grads with the             layer names in layers.\n",
    "        \"\"\"\n",
    "        ########################################\n",
    "        \n",
    "        \n",
    "        ########################################\n",
    "            \n",
    "        \n",
    "        plt = self.plot_func_def(all_grads, layers)\n",
    "        \n",
    "        return plt\n",
    "    \n",
    "    \n",
    "    \n",
    "    \n",
    "    def run_train_iter(self, x, y):\n",
    "        \n",
    "        self.train()  # sets model to training mode (in case batch normalization or other methods have different procedures for training and evaluation)\n",
    "        x, y = x.float().to(device=self.device), y.long().to(\n",
    "            device=self.device)  # send data to device as torch tensors\n",
    "        out = self.model.forward(x)  # forward the data in the model\n",
    "\n",
    "\n",
    "        loss = F.cross_entropy(input=out, target=y)  # compute loss\n",
    "\n",
    "        self.optimizer.zero_grad()  # set all weight grads from previous training iters to 0\n",
    "        loss.backward()  # backpropagate to compute gradients for current iter loss\n",
    "        \n",
    "        self.learning_rate_scheduler.step(epoch=self.current_epoch)\n",
    "        self.optimizer.step()  # update network parameters\n",
    "        _, predicted = torch.max(out.data, 1)  # get argmax of predictions\n",
    "        accuracy = np.mean(list(predicted.eq(y.data).cpu()))  # compute accuracy\n",
    "        return loss.cpu().data.numpy(), accuracy\n",
    "\n",
    "    def run_evaluation_iter(self, x, y):\n",
    "        \"\"\"\n",
    "        Receives the inputs and targets for the model and runs an evaluation iterations. Returns loss and accuracy metrics.\n",
    "        :param x: The inputs to the model. A numpy array of shape batch_size, channels, height, width\n",
    "        :param y: The targets for the model. A numpy array of shape batch_size, num_classes\n",
    "        :return: the loss and accuracy for this batch\n",
    "        \"\"\"\n",
    "        self.eval()  # sets the system to validation mode\n",
    "        x, y = x.float().to(device=self.device), y.long().to(\n",
    "            device=self.device)  # convert data to pytorch tensors and send to the computation device\n",
    "        out = self.model.forward(x)  # forward the data in the model\n",
    "\n",
    "        loss = F.cross_entropy(input=out, target=y)  # compute loss\n",
    "\n",
    "        _, predicted = torch.max(out.data, 1)  # get argmax of predictions\n",
    "        accuracy = np.mean(list(predicted.eq(y.data).cpu()))  # compute accuracy\n",
    "        return loss.cpu().data.numpy(), accuracy\n",
    "\n",
    "    def save_model(self, model_save_dir, model_save_name, model_idx, best_validation_model_idx,\n",
    "                   best_validation_model_acc):\n",
    "        \"\"\"\n",
    "        Save the network parameter state and current best val epoch idx and best val accuracy.\n",
    "        :param model_save_name: Name to use to save model without the epoch index\n",
    "        :param model_idx: The index to save the model with.\n",
    "        :param best_validation_model_idx: The index of the best validation model to be stored for future use.\n",
    "        :param best_validation_model_acc: The best validation accuracy to be stored for use at test time.\n",
    "        :param model_save_dir: The directory to store the state at.\n",
    "        :param state: The dictionary containing the system state.\n",
    "\n",
    "        \"\"\"\n",
    "        self.state['network'] = self.state_dict()  # save network parameter and other variables.\n",
    "        self.state['best_val_model_idx'] = best_validation_model_idx  # save current best val idx\n",
    "        self.state['best_val_model_acc'] = best_validation_model_acc  # save current best val acc\n",
    "        torch.save(self.state, f=os.path.join(model_save_dir, \"{}_{}\".format(model_save_name, str(\n",
    "            model_idx))))  # save state at prespecified filepath\n",
    "\n",
    "    def load_model(self, model_save_dir, model_save_name, model_idx):\n",
    "        \"\"\"\n",
    "        Load the network parameter state and the best val model idx and best val acc to be compared with the future val accuracies, in order to choose the best val model\n",
    "        :param model_save_dir: The directory to store the state at.\n",
    "        :param model_save_name: Name to use to save model without the epoch index\n",
    "        :param model_idx: The index to save the model with.\n",
    "        :return: best val idx and best val model acc, also it loads the network state into the system state without returning it\n",
    "        \"\"\"\n",
    "        state = torch.load(f=os.path.join(model_save_dir, \"{}_{}\".format(model_save_name, str(model_idx))))\n",
    "        self.load_state_dict(state_dict=state['network'])\n",
    "        return state, state['best_val_model_idx'], state['best_val_model_acc']\n",
    "\n",
    "    def run_experiment(self):\n",
    "        \"\"\"\n",
    "        Runs experiment train and evaluation iterations, saving the model and best val model and val model accuracy after each epoch\n",
    "        :return: The summary current_epoch_losses from starting epoch to total_epochs.\n",
    "        \"\"\"\n",
    "        total_losses = {\"train_acc\": [], \"train_loss\": [], \"val_acc\": [],\n",
    "                        \"val_loss\": []}  # initialize a dict to keep the per-epoch metrics\n",
    "        for i, epoch_idx in enumerate(range(self.starting_epoch, self.num_epochs)):\n",
    "            epoch_start_time = time.time()\n",
    "            current_epoch_losses = {\"train_acc\": [], \"train_loss\": [], \"val_acc\": [], \"val_loss\": []}\n",
    "            self.current_epoch = epoch_idx\n",
    "            with tqdm.tqdm(total=len(self.train_data)) as pbar_train:  # create a progress bar for training\n",
    "                for idx, (x, y) in enumerate(self.train_data):  # get data batches\n",
    "                    loss, accuracy = self.run_train_iter(x=x, y=y)  # take a training iter step\n",
    "                    current_epoch_losses[\"train_loss\"].append(loss)  # add current iter loss to the train loss list\n",
    "                    current_epoch_losses[\"train_acc\"].append(accuracy)  # add current iter acc to the train acc list\n",
    "                    pbar_train.update(1)\n",
    "                    pbar_train.set_description(\"loss: {:.4f}, accuracy: {:.4f}\".format(loss, accuracy))\n",
    "\n",
    "            with tqdm.tqdm(total=len(self.val_data)) as pbar_val:  # create a progress bar for validation\n",
    "                for x, y in self.val_data:  # get data batches\n",
    "                    loss, accuracy = self.run_evaluation_iter(x=x, y=y)  # run a validation iter\n",
    "                    current_epoch_losses[\"val_loss\"].append(loss)  # add current iter loss to val loss list.\n",
    "                    current_epoch_losses[\"val_acc\"].append(accuracy)  # add current iter acc to val acc lst.\n",
    "                    pbar_val.update(1)  # add 1 step to the progress bar\n",
    "                    pbar_val.set_description(\"loss: {:.4f}, accuracy: {:.4f}\".format(loss, accuracy))\n",
    "            val_mean_accuracy = np.mean(current_epoch_losses['val_acc'])\n",
    "            if val_mean_accuracy > self.best_val_model_acc:  # if current epoch's mean val acc is greater than the saved best val acc then\n",
    "                self.best_val_model_acc = val_mean_accuracy  # set the best val model acc to be current epoch's val accuracy\n",
    "                self.best_val_model_idx = epoch_idx  # set the experiment-wise best val idx to be the current epoch's idx\n",
    "\n",
    "            for key, value in current_epoch_losses.items():\n",
    "                total_losses[key].append(np.mean(\n",
    "                    value))  # get mean of all metrics of current epoch metrics dict, to get them ready for storage and output on the terminal.\n",
    "\n",
    "            save_statistics(experiment_log_dir=self.experiment_logs, filename='summary.csv',\n",
    "                            stats_dict=total_losses, current_epoch=i,\n",
    "                            continue_from_mode=True if (self.starting_epoch != 0 or i > 0) else False)  # save statistics to stats file.\n",
    "\n",
    "            # load_statistics(experiment_log_dir=self.experiment_logs, filename='summary.csv') # How to load a csv file if you need to\n",
    "\n",
    "            out_string = \"_\".join(\n",
    "                [\"{}_{:.4f}\".format(key, np.mean(value)) for key, value in current_epoch_losses.items()])\n",
    "            # create a string to use to report our epoch metrics\n",
    "            epoch_elapsed_time = time.time() - epoch_start_time  # calculate time taken for epoch\n",
    "            epoch_elapsed_time = \"{:.4f}\".format(epoch_elapsed_time)\n",
    "            print(\"Epoch {}:\".format(epoch_idx), out_string, \"epoch time\", epoch_elapsed_time, \"seconds\")\n",
    "            self.state['model_epoch'] = epoch_idx\n",
    "            self.save_model(model_save_dir=self.experiment_saved_models,\n",
    "                            # save model and best val idx and best val acc, using the model dir, model name and model idx\n",
    "                            model_save_name=\"train_model\", model_idx=epoch_idx,\n",
    "                            best_validation_model_idx=self.best_val_model_idx,\n",
    "                            best_validation_model_acc=self.best_val_model_acc)\n",
    "            self.save_model(model_save_dir=self.experiment_saved_models,\n",
    "                            # save model and best val idx and best val acc, using the model dir, model name and model idx\n",
    "                            model_save_name=\"train_model\", model_idx='latest',\n",
    "                            best_validation_model_idx=self.best_val_model_idx,\n",
    "                            best_validation_model_acc=self.best_val_model_acc)\n",
    "            \n",
    "            ################################################################\n",
    "            ##### Plot Gradient Flow at each Epoch during Training  ######\n",
    "            print(\"Generating Gradient Flow Plot at epoch {}\".format(epoch_idx))\n",
    "            gradient_plt = self.plot_grad_flow(self.model.named_parameters())\n",
    "            if not os.path.exists(os.path.join(self.experiment_saved_models, 'gradient_flow_plots')):\n",
    "                os.mkdir(os.path.join(self.experiment_saved_models, 'gradient_flow_plots'))\n",
    "                # plt.legend(loc=\"best\")\n",
    "            # gradient_plt.savefig(os.path.join(self.experiment_saved_models, 'gradient_flow_plots', \"epoch{}.pdf\".format(str(epoch_idx))))\n",
    "            ################################################################\n",
    "        \n",
    "        print(\"Generating test set evaluation metrics\")\n",
    "        self.load_model(model_save_dir=self.experiment_saved_models, model_idx=self.best_val_model_idx,\n",
    "                        # load best validation model\n",
    "                        model_save_name=\"train_model\")\n",
    "        current_epoch_losses = {\"test_acc\": [], \"test_loss\": []}  # initialize a statistics dict\n",
    "        with tqdm.tqdm(total=len(self.test_data)) as pbar_test:  # ini a progress bar\n",
    "            for x, y in self.test_data:  # sample batch\n",
    "                loss, accuracy = self.run_evaluation_iter(x=x,\n",
    "                                                          y=y)  # compute loss and accuracy by running an evaluation step\n",
    "                current_epoch_losses[\"test_loss\"].append(loss)  # save test loss\n",
    "                current_epoch_losses[\"test_acc\"].append(accuracy)  # save test accuracy\n",
    "                pbar_test.update(1)  # update progress bar status\n",
    "                pbar_test.set_description(\n",
    "                    \"loss: {:.4f}, accuracy: {:.4f}\".format(loss, accuracy))  # update progress bar string output\n",
    "\n",
    "        test_losses = {key: [np.mean(value)] for key, value in\n",
    "                       current_epoch_losses.items()}  # save test set metrics in dict format\n",
    "        save_statistics(experiment_log_dir=self.experiment_logs, filename='test_summary.csv',\n",
    "                        # save test set metrics on disk in .csv format\n",
    "                        stats_dict=test_losses, current_epoch=0, continue_from_mode=False)\n",
    "\n",
    "        return total_losses, test_losses, gradient_plt\n"
   ]
  },
  {
   "cell_type": "code",
   "execution_count": 32,
   "metadata": {},
   "outputs": [],
   "source": [
    "def train_eval_classification_system(args):\n",
    "\n",
    "    # print all arguments with their values\n",
    "    rng = np.random.RandomState(seed=args.seed)  # set the seeds for the experiment\n",
    "    torch.manual_seed(seed=args.seed)  # sets pytorch's seed\n",
    "\n",
    "# # set up data augmentation transforms for training and testing\n",
    "    transform_train = transforms.Compose([\n",
    "            transforms.RandomCrop(32, padding=4),\n",
    "            transforms.RandomHorizontalFlip(),\n",
    "            transforms.ToTensor(),\n",
    "            transforms.Normalize((0.4914, 0.4822, 0.4465), (0.2023, 0.1994, 0.2010)),\n",
    "        ])\n",
    "\n",
    "    transform_test = transforms.Compose([\n",
    "        transforms.ToTensor(),\n",
    "        transforms.Normalize((0.4914, 0.4822, 0.4465), (0.2023, 0.1994, 0.2010)),\n",
    "    ])\n",
    "\n",
    "    train_data = data_providers.CIFAR100(root='data', set_name='train',\n",
    "                 transform=transform_train,\n",
    "                 download=True)  # initialize our rngs using the argument set seed\n",
    "    val_data = data_providers.CIFAR100(root='data', set_name='val',\n",
    "                 transform=transform_test,\n",
    "                 download=True)  # initialize our rngs using the argument set seed\n",
    "    test_data = data_providers.CIFAR100(root='data', set_name='test',\n",
    "                 transform=transform_test,\n",
    "                 download=True)  # initialize our rngs using the argument set seed\n",
    "\n",
    "    train_data_loader = DataLoader(train_data, batch_size=args.batch_size, shuffle=True, num_workers=4)\n",
    "    val_data_loader = DataLoader(val_data, batch_size=args.batch_size, shuffle=True, num_workers=4)\n",
    "    test_data_loader = DataLoader(test_data, batch_size=args.batch_size, shuffle=True, num_workers=4)\n",
    "\n",
    "    if args.block_type == 'conv_block':\n",
    "        processing_block_type = ConvolutionalProcessingBlock\n",
    "        dim_reduction_block_type = ConvolutionalDimensionalityReductionBlock\n",
    "    elif args.block_type == 'empty_block':\n",
    "        processing_block_type = EmptyBlock\n",
    "        dim_reduction_block_type = EmptyBlock\n",
    "    else:\n",
    "        raise ModuleNotFoundError\n",
    "\n",
    "    custom_conv_net = ConvolutionalNetwork(\n",
    "        input_shape=(\n",
    "            args.batch_size, args.image_num_channels, args.image_height, args.image_width),\n",
    "        num_output_classes=args.num_classes, num_filters=args.num_filters, use_bias=False,\n",
    "        num_blocks_per_stage=args.num_blocks_per_stage, num_stages=args.num_stages,\n",
    "        processing_block_type=processing_block_type,\n",
    "        dimensionality_reduction_block_type=dim_reduction_block_type)\n",
    "\n",
    "    print('Setup conv net')\n",
    "\n",
    "    conv_experiment = ExperimentBuilder(\n",
    "        network_model=custom_conv_net,\n",
    "        experiment_name=args.experiment_name,\n",
    "        num_epochs=args.num_epochs,\n",
    "        weight_decay_coefficient=args.weight_decay_coefficient,\n",
    "        use_gpu=args.use_gpu,\n",
    "        continue_from_epoch=args.continue_from_epoch,\n",
    "        train_data=train_data_loader, val_data=val_data_loader,\n",
    "        test_data=test_data_loader\n",
    "    )\n",
    "\n",
    "    print('Experiment setup')\n",
    "    return conv_experiment"
   ]
  },
  {
   "cell_type": "code",
   "execution_count": 33,
   "metadata": {},
   "outputs": [],
   "source": [
    "args = Arguments()\n",
    "args.num_epochs=10\n",
    "args.num_stages = 3\n",
    "args.num_blocks_per_stage = 0"
   ]
  },
  {
   "cell_type": "code",
   "execution_count": 36,
   "metadata": {},
   "outputs": [
    {
     "name": "stdout",
     "output_type": "stream",
     "text": [
      "Files already downloaded and verified\n",
      "train (47500, 32, 32, 3)\n",
      "train (47500,)\n",
      "Files already downloaded and verified\n",
      "val (2500, 32, 32, 3)\n",
      "val (2500,)\n",
      "Files already downloaded and verified\n",
      "test (10000, 32, 32, 3)\n",
      "test (10000,)\n",
      "Building basic block of ConvolutionalNetwork using input shape (100, 3, 32, 32)\n",
      "torch.Size([100, 32, 32, 32])\n",
      "torch.Size([100, 32, 16, 16])\n",
      "torch.Size([100, 32, 8, 8])\n",
      "torch.Size([100, 32, 4, 4])\n",
      "shape before final linear layer torch.Size([100, 32, 1, 1])\n",
      "Block is built, output volume is torch.Size([100, 100])\n",
      "Setup conv net\n",
      "Use GPU 0\n",
      "here\n",
      "System learnable parameters\n",
      "model.layer_dict.input_conv.layer_dict.conv_0.weight torch.Size([32, 3, 3, 3])\n",
      "model.layer_dict.input_conv.layer_dict.bn_0.weight torch.Size([32])\n",
      "model.layer_dict.input_conv.layer_dict.bn_0.bias torch.Size([32])\n",
      "model.layer_dict.reduction_block_0.layer_dict.conv_0.weight torch.Size([32, 32, 3, 3])\n",
      "model.layer_dict.reduction_block_0.layer_dict.conv_0.bias torch.Size([32])\n",
      "model.layer_dict.reduction_block_0.layer_dict.conv_1.weight torch.Size([32, 32, 3, 3])\n",
      "model.layer_dict.reduction_block_0.layer_dict.conv_1.bias torch.Size([32])\n",
      "model.layer_dict.reduction_block_1.layer_dict.conv_0.weight torch.Size([32, 32, 3, 3])\n",
      "model.layer_dict.reduction_block_1.layer_dict.conv_0.bias torch.Size([32])\n",
      "model.layer_dict.reduction_block_1.layer_dict.conv_1.weight torch.Size([32, 32, 3, 3])\n",
      "model.layer_dict.reduction_block_1.layer_dict.conv_1.bias torch.Size([32])\n",
      "model.layer_dict.reduction_block_2.layer_dict.conv_0.weight torch.Size([32, 32, 3, 3])\n",
      "model.layer_dict.reduction_block_2.layer_dict.conv_0.bias torch.Size([32])\n",
      "model.layer_dict.reduction_block_2.layer_dict.conv_1.weight torch.Size([32, 32, 3, 3])\n",
      "model.layer_dict.reduction_block_2.layer_dict.conv_1.bias torch.Size([32])\n",
      "model.logit_linear_layer.weight torch.Size([100, 32])\n",
      "model.logit_linear_layer.bias torch.Size([100])\n",
      "Total number of parameters 59716\n",
      "Total number of conv layers 8\n",
      "Total number of linear layers 1\n",
      "Experiment setup\n"
     ]
    }
   ],
   "source": [
    "conv_experiment = train_eval_classification_system(args)\n"
   ]
  },
  {
   "cell_type": "code",
   "execution_count": 39,
   "metadata": {},
   "outputs": [
    {
     "name": "stderr",
     "output_type": "stream",
     "text": [
      "  0%|          | 0/475 [00:00<?, ?it/s]/usr/local/lib/python3.9/dist-packages/torch/optim/lr_scheduler.py:131: UserWarning: Detected call of `lr_scheduler.step()` before `optimizer.step()`. In PyTorch 1.1.0 and later, you should call them in the opposite order: `optimizer.step()` before `lr_scheduler.step()`.  Failure to do this will result in PyTorch skipping the first value of the learning rate schedule. See more details at https://pytorch.org/docs/stable/optim.html#how-to-adjust-learning-rate\n",
      "  warnings.warn(\"Detected call of `lr_scheduler.step()` before `optimizer.step()`. \"\n",
      "/usr/local/lib/python3.9/dist-packages/torch/optim/lr_scheduler.py:156: UserWarning: The epoch parameter in `scheduler.step()` was not necessary and is being deprecated where possible. Please use `scheduler.step()` to step the scheduler. During the deprecation, if epoch is different from None, the closed form is used instead of the new chainable form, where available. Please open an issue if you are unable to replicate your use case: https://github.com/pytorch/pytorch/issues/new/choose.\n",
      "  warnings.warn(EPOCH_DEPRECATION_WARNING, UserWarning)\n",
      "loss: 3.9803, accuracy: 0.1200: 100%|██████████| 475/475 [00:04<00:00, 109.78it/s]\n",
      "loss: 3.9255, accuracy: 0.0600: 100%|██████████| 25/25 [00:00<00:00, 51.65it/s]\n"
     ]
    },
    {
     "name": "stdout",
     "output_type": "stream",
     "text": [
      "Epoch 0: train_acc_0.0388_train_loss_4.2820_val_acc_0.0780_val_loss_3.9852 epoch time 5.6452 seconds\n",
      "Generating Gradient Flow Plot at epoch 0\n"
     ]
    },
    {
     "name": "stderr",
     "output_type": "stream",
     "text": [
      "/tmp/ipykernel_32/987967374.py:134: UserWarning: Attempting to set identical left == right == 0 results in singular transformations; automatically expanding.\n",
      "  plt.xlim(xmin=0, xmax=len(all_grads))\n",
      "loss: 3.6344, accuracy: 0.1300: 100%|██████████| 475/475 [00:03<00:00, 122.47it/s]\n",
      "loss: 3.7357, accuracy: 0.1700: 100%|██████████| 25/25 [00:00<00:00, 56.12it/s]\n"
     ]
    },
    {
     "name": "stdout",
     "output_type": "stream",
     "text": [
      "Epoch 1: train_acc_0.0923_train_loss_3.8925_val_acc_0.1320_val_loss_3.7160 epoch time 4.3474 seconds\n",
      "Generating Gradient Flow Plot at epoch 1\n"
     ]
    },
    {
     "name": "stderr",
     "output_type": "stream",
     "text": [
      "loss: 3.3823, accuracy: 0.1900: 100%|██████████| 475/475 [00:03<00:00, 123.45it/s]\n",
      "loss: 3.5203, accuracy: 0.1800: 100%|██████████| 25/25 [00:00<00:00, 52.69it/s]\n"
     ]
    },
    {
     "name": "stdout",
     "output_type": "stream",
     "text": [
      "Epoch 2: train_acc_0.1335_train_loss_3.6556_val_acc_0.1428_val_loss_3.5869 epoch time 4.3483 seconds\n",
      "Generating Gradient Flow Plot at epoch 2\n"
     ]
    },
    {
     "name": "stderr",
     "output_type": "stream",
     "text": [
      "loss: 3.5306, accuracy: 0.1600: 100%|██████████| 475/475 [00:03<00:00, 129.30it/s]\n",
      "loss: 3.6188, accuracy: 0.0900: 100%|██████████| 25/25 [00:00<00:00, 53.41it/s]\n"
     ]
    },
    {
     "name": "stdout",
     "output_type": "stream",
     "text": [
      "Epoch 3: train_acc_0.1679_train_loss_3.4653_val_acc_0.1752_val_loss_3.4131 epoch time 4.1548 seconds\n",
      "Generating Gradient Flow Plot at epoch 3\n"
     ]
    },
    {
     "name": "stderr",
     "output_type": "stream",
     "text": [
      "loss: 3.0494, accuracy: 0.2500: 100%|██████████| 475/475 [00:03<00:00, 124.05it/s]\n",
      "loss: 3.3501, accuracy: 0.1500: 100%|██████████| 25/25 [00:00<00:00, 50.00it/s]\n"
     ]
    },
    {
     "name": "stdout",
     "output_type": "stream",
     "text": [
      "Epoch 4: train_acc_0.1934_train_loss_3.3170_val_acc_0.2068_val_loss_3.2688 epoch time 4.4338 seconds\n",
      "Generating Gradient Flow Plot at epoch 4\n"
     ]
    },
    {
     "name": "stderr",
     "output_type": "stream",
     "text": [
      "loss: 3.0168, accuracy: 0.2400: 100%|██████████| 475/475 [00:03<00:00, 130.75it/s]\n",
      "loss: 3.1396, accuracy: 0.2000: 100%|██████████| 25/25 [00:00<00:00, 53.73it/s]\n"
     ]
    },
    {
     "name": "stdout",
     "output_type": "stream",
     "text": [
      "Epoch 5: train_acc_0.2167_train_loss_3.1823_val_acc_0.2272_val_loss_3.1914 epoch time 4.1072 seconds\n",
      "Generating Gradient Flow Plot at epoch 5\n"
     ]
    },
    {
     "name": "stderr",
     "output_type": "stream",
     "text": [
      "loss: 2.9940, accuracy: 0.2600: 100%|██████████| 475/475 [00:03<00:00, 123.61it/s]\n",
      "loss: 2.9736, accuracy: 0.3200: 100%|██████████| 25/25 [00:00<00:00, 53.92it/s]\n"
     ]
    },
    {
     "name": "stdout",
     "output_type": "stream",
     "text": [
      "Epoch 6: train_acc_0.2365_train_loss_3.0783_val_acc_0.2456_val_loss_3.0499 epoch time 4.3176 seconds\n",
      "Generating Gradient Flow Plot at epoch 6\n"
     ]
    },
    {
     "name": "stderr",
     "output_type": "stream",
     "text": [
      "loss: 2.8045, accuracy: 0.2800: 100%|██████████| 475/475 [00:04<00:00, 117.89it/s]\n",
      "loss: 2.6907, accuracy: 0.2600: 100%|██████████| 25/25 [00:00<00:00, 55.17it/s]\n"
     ]
    },
    {
     "name": "stdout",
     "output_type": "stream",
     "text": [
      "Epoch 7: train_acc_0.2503_train_loss_3.0054_val_acc_0.2404_val_loss_3.0449 epoch time 6.1808 seconds\n",
      "Generating Gradient Flow Plot at epoch 7\n"
     ]
    },
    {
     "name": "stderr",
     "output_type": "stream",
     "text": [
      "loss: 2.8953, accuracy: 0.2400: 100%|██████████| 475/475 [00:03<00:00, 122.78it/s]\n",
      "loss: 2.8545, accuracy: 0.2600: 100%|██████████| 25/25 [00:00<00:00, 55.38it/s]\n"
     ]
    },
    {
     "name": "stdout",
     "output_type": "stream",
     "text": [
      "Epoch 8: train_acc_0.2630_train_loss_2.9492_val_acc_0.2600_val_loss_2.9871 epoch time 4.3386 seconds\n",
      "Generating Gradient Flow Plot at epoch 8\n"
     ]
    },
    {
     "name": "stderr",
     "output_type": "stream",
     "text": [
      "loss: 2.8550, accuracy: 0.2200: 100%|██████████| 475/475 [00:03<00:00, 128.06it/s]\n",
      "loss: 2.6543, accuracy: 0.3500: 100%|██████████| 25/25 [00:00<00:00, 55.47it/s]\n"
     ]
    },
    {
     "name": "stdout",
     "output_type": "stream",
     "text": [
      "Epoch 9: train_acc_0.2677_train_loss_2.9204_val_acc_0.2640_val_loss_2.9873 epoch time 4.1688 seconds\n",
      "Generating Gradient Flow Plot at epoch 9\n",
      "Generating test set evaluation metrics\n"
     ]
    },
    {
     "name": "stderr",
     "output_type": "stream",
     "text": [
      "loss: 2.6991, accuracy: 0.3100: 100%|██████████| 100/100 [00:00<00:00, 129.01it/s]\n"
     ]
    },
    {
     "data": {
      "image/png": "[encoded data removed]",
      "text/plain": [
       "<Figure size 432x288 with 1 Axes>"
      ]
     },
     "metadata": {
      "needs_background": "light"
     },
     "output_type": "display_data"
    }
   ],
   "source": [
    "\n",
    "train_loss, test_loss, gradient_plt = conv_experiment.run_experiment()"
   ]
  },
  {
   "cell_type": "code",
   "execution_count": 57,
   "metadata": {},
   "outputs": [
    {
     "name": "stderr",
     "output_type": "stream",
     "text": [
      "/tmp/ipykernel_32/987967374.py:139: UserWarning: Tight layout not applied. The bottom and top margins cannot be made large enough to accommodate all axes decorations.\n",
      "  plt.tight_layout()\n"
     ]
    },
    {
     "data": {
      "image/png": "[encoded data removed]",
      "text/plain": [
       "<Figure size 432x288 with 1 Axes>"
      ]
     },
     "metadata": {
      "needs_background": "light"
     },
     "output_type": "display_data"
    }
   ],
   "source": [
    "\n",
    "params_to_plot = [(name, param.grad.abs().mean().cpu()) for name, param in conv_experiment.model.named_parameters() if 'bias' not in name and param.requires_grad]\n",
    "absolute_means = [param[1] for param in params_to_plot]\n",
    "names = [param[0] for param in params_to_plot]\n",
    "response = conv_experiment.plot_func_def(absolute_means, names)"
   ]
  },
  {
   "cell_type": "code",
   "execution_count": null,
   "metadata": {},
   "outputs": [],
   "source": []
  }
 ],
 "metadata": {
  "kernelspec": {
   "display_name": "Python 3 (ipykernel)",
   "language": "python",
   "name": "python3"
  },
  "language_info": {
   "codemirror_mode": {
    "name": "ipython",
    "version": 3
   },
   "file_extension": ".py",
   "mimetype": "text/x-python",
   "name": "python",
   "nbconvert_exporter": "python",
   "pygments_lexer": "ipython3",
   "version": "3.9.13"
  },
  "orig_nbformat": 4,
  "vscode": {
   "interpreter": {
    "hash": "c2e42edb0ebe70a3d43dc5567abd4ae5e3b7386963232f8acd40b8df435c1a3c"
   }
  }
 },
 "nbformat": 4,
 "nbformat_minor": 2
}
